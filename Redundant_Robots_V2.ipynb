{
  "nbformat": 4,
  "nbformat_minor": 0,
  "metadata": {
    "colab": {
      "name": "Redundant Robots_V2.ipynb\"",
      "provenance": [],
      "toc_visible": true
    },
    "kernelspec": {
      "name": "python3",
      "display_name": "Python 3"
    },
    "accelerator": "GPU"
  },
  "cells": [
    {
      "cell_type": "markdown",
      "metadata": {
        "id": "h2SwsCTDUGes"
      },
      "source": [
        "# Work done by:\r\n",
        "\r\n",
        "### <b><i>Cham An Fam</i></b>\r\n",
        "### <b><i>Simon Idoko</i></b>\r\n",
        "### <b><i>Ruslan Damindarov</i></b>"
      ]
    },
    {
      "cell_type": "markdown",
      "metadata": {
        "id": "EeSmOuLDNMxd"
      },
      "source": [
        "<h1>KUKA iiwa LBR14 R820</h1>"
      ]
    },
    {
      "cell_type": "markdown",
      "metadata": {
        "id": "50JVcfbhqkal"
      },
      "source": [
        "### <b><i>Imports</i></b>"
      ]
    },
    {
      "cell_type": "code",
      "metadata": {
        "id": "iUhUqoXQqowe"
      },
      "source": [
        "import time\r\n",
        "import numpy as np\r\n",
        "import sympy as sym\r\n",
        "sym.init_printing()\r\n",
        "from math import atan2, sqrt\r\n",
        "import matplotlib.pyplot as plt\r\n",
        "from IPython.display import clear_output "
      ],
      "execution_count": 2,
      "outputs": []
    },
    {
      "cell_type": "code",
      "metadata": {
        "id": "aJZPERW6qql7"
      },
      "source": [
        "np.set_printoptions(precision=4, suppress=True, linewidth=200)"
      ],
      "execution_count": 3,
      "outputs": []
    },
    {
      "cell_type": "markdown",
      "metadata": {
        "id": "6IjnEDyPqIkI"
      },
      "source": [
        "### <b><i>Utilities</i></b>"
      ]
    },
    {
      "cell_type": "markdown",
      "metadata": {
        "id": "S2jq-k3BqNS9"
      },
      "source": [
        "##### Rotation Matrices"
      ]
    },
    {
      "cell_type": "code",
      "metadata": {
        "id": "6udj9w1TphVd"
      },
      "source": [
        "def Rx(q):\r\n",
        "  T = np.array([[1,         0,          0, 0],\r\n",
        "                [0, np.cos(q), -np.sin(q), 0],\r\n",
        "                [0, np.sin(q),  np.cos(q), 0],\r\n",
        "                [0,         0,          0, 1]], dtype=float)\r\n",
        "  return T\r\n",
        "\r\n",
        "def Ry(q):\r\n",
        "  T = np.array([[ np.cos(q), 0, np.sin(q), 0],\r\n",
        "                [         0, 1,         0, 0],\r\n",
        "                [-np.sin(q), 0, np.cos(q), 0],\r\n",
        "                [         0, 0,         0, 1]], dtype=float)\r\n",
        "  return T\r\n",
        "\r\n",
        "def Rz(q):\r\n",
        "  T = np.array([[np.cos(q), -np.sin(q), 0, 0],\r\n",
        "                [np.sin(q),  np.cos(q), 0, 0],\r\n",
        "                [        0,          0, 1, 0],\r\n",
        "                [        0,          0, 0, 1]], dtype=float)\r\n",
        "  return T"
      ],
      "execution_count": 4,
      "outputs": []
    },
    {
      "cell_type": "code",
      "metadata": {
        "id": "T-yjX1fb9bN3"
      },
      "source": [
        "def Rx_sym(q):\r\n",
        "  return sym.Matrix(\r\n",
        "      [[1, 0, 0, 0],\r\n",
        "        [0, sym.cos(q), -sym.sin(q), 0],\r\n",
        "        [0, sym.sin(q), sym.cos(q), 0],\r\n",
        "        [0, 0, 0, 1]]\r\n",
        "  )\r\n",
        "\r\n",
        "def Ry_sym(q):\r\n",
        "  return sym.Matrix(\r\n",
        "      [[sym.cos(q), 0, sym.sin(q), 0],\r\n",
        "        [0, 1, 0, 0],\r\n",
        "        [-sym.sin(q), 0, sym.cos(q), 0],\r\n",
        "        [0, 0, 0, 1]]\r\n",
        "  )\r\n",
        "\r\n",
        "def Rz_sym(q):\r\n",
        "  return sym.Matrix(\r\n",
        "      [[sym.cos(q), -sym.sin(q), 0, 0],\r\n",
        "        [sym.sin(q), sym.cos(q), 0, 0],\r\n",
        "        [0, 0, 1, 0],\r\n",
        "        [0, 0, 0, 1]]\r\n",
        "  )"
      ],
      "execution_count": 5,
      "outputs": []
    },
    {
      "cell_type": "markdown",
      "metadata": {
        "id": "WVXN7wWaqRRE"
      },
      "source": [
        "##### Rotation Derivative Matrices"
      ]
    },
    {
      "cell_type": "code",
      "metadata": {
        "id": "cxBz18DRpxzW"
      },
      "source": [
        "def d_Rx(q):\r\n",
        "  T = np.array([[0,          0,          0, 0],\r\n",
        "                [0, -np.sin(q), -np.cos(q), 0],\r\n",
        "                [0,  np.cos(q), -np.sin(q), 0],\r\n",
        "                [0,          0,          0, 0]], dtype=float)\r\n",
        "  return T\r\n",
        "\r\n",
        "def d_Ry(q):\r\n",
        "  T = np.array([[-np.sin(q), 0,  np.cos(q), 0],\r\n",
        "                [         0, 0,          0, 0],\r\n",
        "                [-np.cos(q), 0, -np.sin(q), 0],\r\n",
        "                [         0, 0,          0, 0]], dtype=float)\r\n",
        "  return T\r\n",
        "\r\n",
        "def d_Rz(q):\r\n",
        "  T = np.array([[-np.sin(q), -np.cos(q), 0, 0],\r\n",
        "                [ np.cos(q), -np.sin(q), 0, 0],\r\n",
        "                [         0,          0, 0, 0],\r\n",
        "                [         0,          0, 0, 0]], dtype=float)\r\n",
        "  return T"
      ],
      "execution_count": 6,
      "outputs": []
    },
    {
      "cell_type": "code",
      "metadata": {
        "id": "6bh0XTXo9S1R"
      },
      "source": [
        "def d_Rx_sym(q):\r\n",
        "  return sym.Matrix(\r\n",
        "      [[0, 0, 0, 0],\r\n",
        "        [0, -sym.sin(q), -sym.cos(q), 0],\r\n",
        "        [0, sym.cos(q), -sym.sin(q), 0],\r\n",
        "        [0, 0, 0, 0]]\r\n",
        "  )\r\n",
        "\r\n",
        "def d_Ry_sym(q):\r\n",
        "  return sym.Matrix(\r\n",
        "      [[-sym.sin(q), 0, sym.cos(q), 0],\r\n",
        "        [0, 0, 0, 0],\r\n",
        "        [-sym.cos(q), 0, -sym.sin(q), 0],\r\n",
        "        [0, 0, 0, 0]]\r\n",
        "  )\r\n",
        "\r\n",
        "def d_Rz_sym(q):\r\n",
        "  return sym.Matrix(\r\n",
        "      [[-sym.sin(q), -sym.cos(q), 0, 0],\r\n",
        "        [sym.cos(q), -sym.sin(q), 0, 0],\r\n",
        "        [0, 0, 0, 0],\r\n",
        "        [0, 0, 0, 0]])"
      ],
      "execution_count": 7,
      "outputs": []
    },
    {
      "cell_type": "markdown",
      "metadata": {
        "id": "38a4KTnHqYZn"
      },
      "source": [
        "##### Translation Matrices"
      ]
    },
    {
      "cell_type": "code",
      "metadata": {
        "id": "vgu1J8eap0Yl"
      },
      "source": [
        "def Tx(x):\r\n",
        "  T = np.array([[1, 0, 0, x],\r\n",
        "                [0, 1, 0, 0],\r\n",
        "                [0, 0, 1, 0],\r\n",
        "                [0, 0, 0, 1]], dtype=float)\r\n",
        "  return T\r\n",
        "\r\n",
        "def Ty(y):\r\n",
        "  T = np.array([[1, 0, 0, 0],\r\n",
        "                [0, 1, 0, y],\r\n",
        "                [0, 0, 1, 0],\r\n",
        "                [0, 0, 0, 1]], dtype=float)\r\n",
        "  return T\r\n",
        "\r\n",
        "def Tz(z):\r\n",
        "  T = np.array([[1, 0, 0, 0],\r\n",
        "                [0, 1, 0, 0],\r\n",
        "                [0, 0, 1, z],\r\n",
        "                [0, 0, 0, 1]], dtype=float)\r\n",
        "  return T"
      ],
      "execution_count": 8,
      "outputs": []
    },
    {
      "cell_type": "code",
      "metadata": {
        "id": "wtuYOv_iHQ5L"
      },
      "source": [
        "def Tx_sym(s):\r\n",
        "  return sym.Matrix(\r\n",
        "      [[1, 0, 0, s],\r\n",
        "        [0, 1, 0, 0],\r\n",
        "        [0, 0, 1, 0],\r\n",
        "        [0, 0, 0, 1]]\r\n",
        "  )\r\n",
        "\r\n",
        "def Ty_sym(s):\r\n",
        "  return sym.Matrix(\r\n",
        "      [[1, 0, 0, 0],\r\n",
        "        [0, 1, 0, s],\r\n",
        "        [0, 0, 1, 0],\r\n",
        "        [0, 0, 0, 1]]\r\n",
        "  )\r\n",
        "\r\n",
        "def Tz_sym(s):\r\n",
        "  return sym.Matrix(\r\n",
        "      [[1, 0, 0, 0],\r\n",
        "        [0, 1, 0, 0],\r\n",
        "        [0, 0, 1, s],\r\n",
        "        [0, 0, 0, 1]]\r\n",
        "  )"
      ],
      "execution_count": 9,
      "outputs": []
    },
    {
      "cell_type": "markdown",
      "metadata": {
        "id": "ASwolU4Hqa_d"
      },
      "source": [
        "##### Translation Derivative Matrices"
      ]
    },
    {
      "cell_type": "code",
      "metadata": {
        "id": "RrcGE8WepgLS"
      },
      "source": [
        "def d_Tx(x):\r\n",
        "  T = np.array([[0, 0, 0, 1],\r\n",
        "                [0, 0, 0, 0],\r\n",
        "                [0, 0, 0, 0],\r\n",
        "                [0, 0, 0, 0]], dtype=float)\r\n",
        "  return T\r\n",
        "\r\n",
        "def d_Ty(y):\r\n",
        "  T = np.array([[0, 0, 0, 0],\r\n",
        "                [0, 0, 0, 1],\r\n",
        "                [0, 0, 0, 0],\r\n",
        "                [0, 0, 0, 0]], dtype=float)\r\n",
        "  return T\r\n",
        "\r\n",
        "def d_Tz(z):\r\n",
        "  T = np.array([[0, 0, 0, 0],\r\n",
        "                [0, 0, 0, 0],\r\n",
        "                [0, 0, 0, 1],\r\n",
        "                [0, 0, 0, 0]], dtype=float)\r\n",
        "  return T"
      ],
      "execution_count": 10,
      "outputs": []
    },
    {
      "cell_type": "code",
      "metadata": {
        "id": "Dv-Dr3qy9Jkw"
      },
      "source": [
        "def d_Tx_sym():\r\n",
        "  return sym.Matrix(\r\n",
        "      [[0, 0, 0, 1],\r\n",
        "        [0, 0, 0, 0],\r\n",
        "        [0, 0, 0, 0],\r\n",
        "        [0, 0, 0, 0]]\r\n",
        "  )\r\n",
        "\r\n",
        "def d_Ty_sym():\r\n",
        "  return sym.Matrix(\r\n",
        "      [[0, 0, 0, 0],\r\n",
        "        [0, 0, 0, 1],\r\n",
        "        [0, 0, 0, 0],\r\n",
        "        [0, 0, 0, 0]]\r\n",
        "  )\r\n",
        "\r\n",
        "def d_Tz_sym():\r\n",
        "  return sym.Matrix(\r\n",
        "      [[0, 0, 0, 0],\r\n",
        "        [0, 0, 0, 0],\r\n",
        "        [0, 0, 0, 1],\r\n",
        "        [0, 0, 0, 0]]\r\n",
        "  )"
      ],
      "execution_count": 11,
      "outputs": []
    },
    {
      "cell_type": "markdown",
      "metadata": {
        "id": "J5dmts0l5OGc"
      },
      "source": [
        "##### Euler Angles from Rotation Matrix"
      ]
    },
    {
      "cell_type": "code",
      "metadata": {
        "id": "tvdrJVDD5NYo"
      },
      "source": [
        "def euler_angles(R, sndSol=True):\r\n",
        "  rx = atan2(R[2,0], R[2,1])\r\n",
        "  ry = atan2(sqrt(R[0,2]**2 + R[1,2]**2), R[2,2])\r\n",
        "  rz = atan2(R[0,2], -R[1,2])\r\n",
        "\r\n",
        "  return [rx, ry, rz]"
      ],
      "execution_count": 12,
      "outputs": []
    },
    {
      "cell_type": "markdown",
      "metadata": {
        "id": "pNx2SjJEjpJU"
      },
      "source": [
        "### <b><i>Parameters And Trajectory Definitions</i></b> "
      ]
    },
    {
      "cell_type": "code",
      "metadata": {
        "id": "hFUfuQCN06Q5"
      },
      "source": [
        "# Length of Links in meters\r\n",
        "a1, a2, a3, a4 = 0.36, 0.42, 0.4, 0.126\r\n",
        "\r\n",
        "pi = np.pi\r\n",
        "pi_sym = sym.pi\r\n",
        "\r\n",
        "P = np.sin(np.linspace(-2.5,2.5))"
      ],
      "execution_count": 13,
      "outputs": []
    },
    {
      "cell_type": "markdown",
      "metadata": {
        "id": "cqS-78OTfa_-"
      },
      "source": [
        "### <b><i>Forward Kinematics</i></b>"
      ]
    },
    {
      "cell_type": "code",
      "metadata": {
        "id": "ziutc7dDlsVm"
      },
      "source": [
        "def FK(joint_params):\r\n",
        "  \"\"\"\r\n",
        "  Joint variables consisting of 7 parameters\r\n",
        "  \"\"\"\r\n",
        "  joint_params = np.asarray(joint_params, dtype=float)\r\n",
        "  q1, q2, q3, q4, q5, q6, q7 = joint_params\r\n",
        "  TF = np.linalg.multi_dot([ \r\n",
        "          Rz(q1), Tz(a1),           # Joint 1 to 2\r\n",
        "          Rx(q2),                   # Joint 2 to 3 \r\n",
        "          Rz(q3), Tz(a2),           # Joint 3 to 4 \r\n",
        "          Rx(q4),                   # Joint 4 to 5  \r\n",
        "          Rz(q5), Tz(a3),           # Joint 5 to 6 \r\n",
        "          Rx(q6),                   # Joint 6 to 7 \r\n",
        "          Rz(q7), Tz(a4)            # Joint 7 to E\r\n",
        "  ])\r\n",
        "\r\n",
        "  return TF"
      ],
      "execution_count": 14,
      "outputs": []
    },
    {
      "cell_type": "markdown",
      "metadata": {
        "id": "RpfpyS8zyELB"
      },
      "source": [
        "### <b><i>Jacobian matrix</i></b>"
      ]
    },
    {
      "cell_type": "code",
      "metadata": {
        "id": "0_OafFnx5OSK"
      },
      "source": [
        "def jacobian_sym():\r\n",
        "  q1, q2, q3, q4, q5, q6, q7 = sym.symbols(\"q_1 q_2 q_3 q_4 q_5 q_6 q_7\", real=True)  \r\n",
        "\r\n",
        "  variables = [q1, q2, q3, q4, q5, q6, q7]\r\n",
        "\r\n",
        "  TF =  Rz_sym(q1) @ Tz_sym(a1) @ \\\r\n",
        "        Rx_sym(q2)              @ \\\r\n",
        "        Rz_sym(q3) @ Tz_sym(a2) @ \\\r\n",
        "        Rx_sym(q4)              @ \\\r\n",
        "        Rz_sym(q5) @ Tz_sym(a3) @ \\\r\n",
        "        Rx_sym(q6)              @ \\\r\n",
        "        Rz_sym(q7) @ Tz_sym(a4)\r\n",
        "\r\n",
        "  R = TF[:3,:-1]\r\n",
        "  jacobian = sym.Matrix([])\r\n",
        "\r\n",
        "  for var in variables:\r\n",
        "      T_d  = sym.diff(TF, var) \r\n",
        "\r\n",
        "      T    = T_d[0:3, -1]\r\n",
        "      R_d  = T_d[0:3, :-1]\r\n",
        "      R_j  = R_d @ R.T \r\n",
        "\r\n",
        "      J = T.row_insert(3, sym.Matrix([R_j[2,1], R_j[0,2], R_j[1,0]]))\r\n",
        "\r\n",
        "      jacobian = jacobian.col_insert(len(jacobian), J)\r\n",
        "\r\n",
        "  return sym.lambdify([variables], jacobian, \"numpy\")\r\n",
        "\r\n",
        "jacobian_sym_func = jacobian_sym()\r\n",
        "\r\n",
        "def jacobian(joint_params):\r\n",
        "    variables = [*joint_params]\r\n",
        "    return jacobian_sym_func(variables)"
      ],
      "execution_count": 15,
      "outputs": []
    },
    {
      "cell_type": "markdown",
      "metadata": {
        "id": "HBS3ZfvGvlGT"
      },
      "source": [
        "### <b><i>Plot Function</i></b>"
      ]
    },
    {
      "cell_type": "code",
      "metadata": {
        "id": "8pWNxDP3wi3j"
      },
      "source": [
        "import plotly.express as px\r\n",
        "import plotly.io as pio\r\n",
        "import plotly.graph_objects as go"
      ],
      "execution_count": 16,
      "outputs": []
    },
    {
      "cell_type": "code",
      "metadata": {
        "id": "L1eGjHc0vn6s"
      },
      "source": [
        "def plot_robot(q_parms):\r\n",
        "\r\n",
        "  q1, q2, q3, q4, q5, q6, q7 = q_parms\r\n",
        "\r\n",
        "  T01 = np.eye(4)\r\n",
        "  T12 = Rz(q1) @ Tz(a1)           # Joint 1 to 2\r\n",
        "  T23 = Rx(q2)                    # Joint 2 to 3\r\n",
        "  T34 = Rz(q3) @ Tz(a2)           # Joint 3 to 4\r\n",
        "  T45 = Rx(q4)                    # Joint 4 to 5\r\n",
        "  T56 = Rz(q5) @ Tz(a3)           # Joint 5 to 6\r\n",
        "  T67 = Rx(q6)                    # Joint 6 to 7\r\n",
        "  T7E = Rz(q7) @ Tz(a4)           # Joint 7 to E\r\n",
        "  \r\n",
        "  T02 = T01 @ T12\r\n",
        "  T03 = T01 @ T12 @ T23\r\n",
        "  T04 = T01 @ T12 @ T23 @ T34\r\n",
        "  T05 = T01 @ T12 @ T23 @ T34 @ T45 \r\n",
        "  T06 = T01 @ T12 @ T23 @ T34 @ T45 @ T56\r\n",
        "  T07 = T01 @ T12 @ T23 @ T34 @ T45 @ T56 @ T67\r\n",
        "  T0E = T01 @ T12 @ T23 @ T34 @ T45 @ T56 @ T67 @ T7E\r\n",
        "\r\n",
        "  x_pos = [T01[0,-1], T02[0,-1], T03[0,-1], T04[0,-1], T05[0,-1], T06[0,-1], T07[0,-1], T0E[0,-1]]\r\n",
        "  y_pos = [T01[1,-1], T02[1,-1], T03[1,-1], T04[1,-1], T05[1,-1], T06[1,-1], T07[1,-1], T0E[1,-1]]\r\n",
        "  z_pos = [T01[2,-1], T02[2,-1], T03[2,-1], T04[2,-1], T05[2,-1], T06[2,-1], T07[2,-1], T0E[2,-1]]\r\n",
        "\r\n",
        "  fig = go.Figure()\r\n",
        "  fig.add_scatter3d(\r\n",
        "      x=np.round(x_pos,2),\r\n",
        "      y=np.round(y_pos,2),\r\n",
        "      z=z_pos,\r\n",
        "      line=dict( color='darkblue', width=15 ),\r\n",
        "      hoverinfo=\"text\",\r\n",
        "      hovertext=[ f\"joint {idx}: {q}\" \r\n",
        "          for idx,q in \r\n",
        "            enumerate(np.round(np.rad2deg([ 0, q1, q2, q3, q4, q5, q6, q7 ]),0)) ],\r\n",
        "      marker=dict(\r\n",
        "          size=10,\r\n",
        "          color=[ np.linalg.norm([x,y,z]) for x,y,z in zip(x_pos, y_pos, z_pos) ],\r\n",
        "          colorscale='Viridis',\r\n",
        "      )\r\n",
        "  )\r\n",
        "  fig.layout=dict(\r\n",
        "      width=1000,\r\n",
        "      height=700,\r\n",
        "      scene = dict( \r\n",
        "          camera=dict( eye={ 'x':-1.25, 'y':-1.25, 'z':2 } ),\r\n",
        "          aspectratio={ 'x':1.25, 'y':1.25, 'z':1 },\r\n",
        "          xaxis = dict( nticks=8, ),\r\n",
        "          yaxis = dict( nticks=8 ),\r\n",
        "          zaxis = dict( nticks=8 ),\r\n",
        "          xaxis_title='Robot x-axis',\r\n",
        "          yaxis_title='Robot y-axis',\r\n",
        "          zaxis_title='Robot z-axis'),\r\n",
        "      title=f\"Robot in joint Configuration: {np.round(np.rad2deg(q_parms),0)} degrees\",\r\n",
        "      colorscale=dict(diverging=\"thermal\")\r\n",
        "  )\r\n",
        "  pio.show(fig)\r\n",
        "\r\n",
        "# plot_robot(np.deg2rad([0,90,45,-90,0,90,0]))"
      ],
      "execution_count": 17,
      "outputs": []
    },
    {
      "cell_type": "code",
      "metadata": {
        "id": "uLxBDuD6K5Hv"
      },
      "source": [
        "def plot_robots(rob_cnfs, traj_x, traj_y, traj_z, traj_fun=(lambda x, y: 0.5 + 0.5*np.sin(3*x*y))):\r\n",
        "  \"\"\"\r\n",
        "  rob_cnfs: list of robot configurations and plots each conf\r\n",
        "  \r\n",
        "  traj_fun: function defined in terms of x and y and plots the 3D function \r\n",
        "  representing the desired trajectory\r\n",
        "  \"\"\"\r\n",
        "\r\n",
        "  fig = go.Figure()\r\n",
        "\r\n",
        "  fig.add_scatter3d(\r\n",
        "        x=traj_x,\r\n",
        "        y=traj_y,\r\n",
        "        z=traj_z,\r\n",
        "        hoverinfo='none',\r\n",
        "        marker=dict( size=0.1 ),\r\n",
        "        name = \"desired trajectory\"\r\n",
        "  )\r\n",
        "\r\n",
        "  for i,q_params in enumerate(rob_cnfs):\r\n",
        "    q1, q2, q3, q4, q5, q6, q7 = q_params\r\n",
        "\r\n",
        "    T01 = np.eye(4)\r\n",
        "    T12 = Rz(q1) @ Tz(a1)           # Joint 1 to 2\r\n",
        "    T23 = Rx(q2)                    # Joint 2 to 3\r\n",
        "    T34 = Rz(q3) @ Tz(a2)           # Joint 3 to 4\r\n",
        "    T45 = Rx(q4)                    # Joint 4 to 5\r\n",
        "    T56 = Rz(q5) @ Tz(a3)           # Joint 5 to 6\r\n",
        "    T67 = Rx(q6)                    # Joint 6 to 7\r\n",
        "    T7E = Rz(q7) @ Tz(a4)           # Joint 7 to E\r\n",
        "    \r\n",
        "    T02 = T01 @ T12\r\n",
        "    T03 = T01 @ T12 @ T23\r\n",
        "    T04 = T01 @ T12 @ T23 @ T34\r\n",
        "    T05 = T01 @ T12 @ T23 @ T34 @ T45 \r\n",
        "    T06 = T01 @ T12 @ T23 @ T34 @ T45 @ T56\r\n",
        "    T07 = T01 @ T12 @ T23 @ T34 @ T45 @ T56 @ T67\r\n",
        "    T0E = T01 @ T12 @ T23 @ T34 @ T45 @ T56 @ T67 @ T7E\r\n",
        "\r\n",
        "    x_pos = [T01[0,-1], T02[0,-1], T03[0,-1], T04[0,-1], T05[0,-1], T06[0,-1], T07[0,-1], T0E[0,-1]]\r\n",
        "    y_pos = [T01[1,-1], T02[1,-1], T03[1,-1], T04[1,-1], T05[1,-1], T06[1,-1], T07[1,-1], T0E[1,-1]]\r\n",
        "    z_pos = [T01[2,-1], T02[2,-1], T03[2,-1], T04[2,-1], T05[2,-1], T06[2,-1], T07[2,-1], T0E[2,-1]]\r\n",
        "\r\n",
        "    # Setting opacity\r\n",
        "    if (i != 0 and i != len(rob_cnfs)-1): \r\n",
        "      opc=0.3\r\n",
        "    else: \r\n",
        "      opc=1\r\n",
        "    \r\n",
        "    # Width\r\n",
        "    wd=10\r\n",
        "\r\n",
        "    fig.add_scatter3d(\r\n",
        "        x=np.round(x_pos,2),\r\n",
        "        y=np.round(y_pos,2),\r\n",
        "        z=z_pos,\r\n",
        "        line=dict( color='darkblue', width=wd ),\r\n",
        "        hoverinfo=\"text\",\r\n",
        "        hovertext=[ f\"joint {idx}: {q}\" \r\n",
        "            for idx,q in \r\n",
        "              enumerate(np.round(np.rad2deg([ 0, q1, q2, q3, q4, q5, q6, q7 ]),0)) ],\r\n",
        "        marker=dict(\r\n",
        "            size=wd/2,\r\n",
        "            color=[\"black\", \"orange\", \"yellow\", \"pink\", \"blue\", \"goldenrod\", \"green\", \"red\"],\r\n",
        "            # colorscale='Viridis',\r\n",
        "        ),\r\n",
        "        opacity=opc,\r\n",
        "        showlegend=False,\r\n",
        "        name = f\"conf {i}\"\r\n",
        "    )\r\n",
        "\r\n",
        "\r\n",
        "  fig.layout=dict(\r\n",
        "    width=1000,\r\n",
        "    height=700,\r\n",
        "    scene = dict( \r\n",
        "        camera=dict( eye={ 'x':-1.25, 'y':-1.25, 'z':2 } ),\r\n",
        "        aspectratio={ 'x':1.25, 'y':1.25, 'z':1 },\r\n",
        "        xaxis = dict( nticks=8, range=[np.min(traj_x)-0.5, np.max(traj_x)+0.5] ),\r\n",
        "        yaxis = dict( nticks=8, range=[np.min(traj_y)-0.5, np.max(traj_y)+0.5] ),\r\n",
        "        zaxis = dict( nticks=8, range=[-0.05, np.max(traj_z)+0.4] ),\r\n",
        "        xaxis_title='Robot x-axis',\r\n",
        "        yaxis_title='Robot y-axis',\r\n",
        "        zaxis_title='Robot z-axis'),\r\n",
        "    title=f\"Robot plot in different configurations\",\r\n",
        "    colorscale=dict(diverging=\"thermal\")\r\n",
        "  )\r\n",
        "  pio.show(fig)\r\n",
        "\r\n",
        "# plot_robots([np.deg2rad([0,90,0,-90,0,90,0]), np.deg2rad([0,0,0,0,0,0,0]), np.deg2rad([0,-90,0,90,0,-90,0])])"
      ],
      "execution_count": 18,
      "outputs": []
    },
    {
      "cell_type": "markdown",
      "metadata": {
        "id": "02UNeBK6fdhq"
      },
      "source": [
        "### <b><i>Redundancy Analysis</i></b>"
      ]
    },
    {
      "cell_type": "code",
      "metadata": {
        "id": "_CDfRk4XMs__"
      },
      "source": [
        "def get_cnfs(method_fun, q0=np.deg2rad([0,30,0,-20,0,45,0]), kwargs=dict()):\r\n",
        "  \"\"\"Returns all the joint configurations for the robot at different points on \r\n",
        "    the required trajectory for a specific method\"\"\"\r\n",
        "\r\n",
        "  x = np.hstack([\r\n",
        "          [ 0.4 for _ in range(10) ],\r\n",
        "           ])\r\n",
        "  \r\n",
        "  y = np.hstack([\r\n",
        "          np.linspace(-0.2, 0.4, 10), \r\n",
        "         ]) \r\n",
        "  \r\n",
        "  z = [ 0.9 for _ in x ]\r\n",
        "\r\n",
        "  # x = np.hstack([\r\n",
        "  #         [ 0.4 for _ in range(5) ],\r\n",
        "  #         [ 0.2 for _ in range(5)], \r\n",
        "  #         np.linspace(0.2, 0.4, 5), \r\n",
        "  #         np.linspace(0.2, 0.4, 5) ])\r\n",
        "  \r\n",
        "  # y = np.hstack([\r\n",
        "  #         np.linspace(0.2, 0.4, 5), \r\n",
        "  #         np.linspace(0.2, 0.4,5), \r\n",
        "  #         [ 0.4 for _ in range(5) ], \r\n",
        "  #         [ 0.2 for _ in range(5)]]) \r\n",
        "  \r\n",
        "  # z = [ 0.9 for _ in x ]\r\n",
        "  rob_cnfs = []   # will contain the result of each inverse kinematics\r\n",
        "\r\n",
        "  start_time = time.time()\r\n",
        "\r\n",
        "  for (i, j, k) in zip (x, y, z):\r\n",
        "    pos = [i, j, k]\r\n",
        "\r\n",
        "    q = method_fun(q0, pos, **kwargs)\r\n",
        "\r\n",
        "    rob_cnfs.append(q)\r\n",
        "    # q0 = q     # Sets the new initial joint configurations to the previous\r\n",
        "\r\n",
        "  end_time = time.time()\r\n",
        "\r\n",
        "  print(f\"\\n{np.round(end_time-start_time, 1)} seconds : Total time using {method_fun.__name__} \\n\")\r\n",
        "  if kwargs: print(f\"\\nParameters used: {kwargs}\")\r\n",
        "\r\n",
        "  plot_robots(rob_cnfs, traj_x=x, traj_y=y, traj_z=z)"
      ],
      "execution_count": 68,
      "outputs": []
    },
    {
      "cell_type": "markdown",
      "metadata": {
        "id": "e2S1jLvrt_QL"
      },
      "source": [
        "##### <i>Simple Pseudo Inverse</i>"
      ]
    },
    {
      "cell_type": "code",
      "metadata": {
        "id": "l1BVKcNkuIp7"
      },
      "source": [
        "def simple_pseudo(q0, p_goal, time_step=0.01, max_iteration=3000, accuracy=0.001):\r\n",
        "\r\n",
        "  assert np.linalg.norm(p_goal) <= 0.85*np.sum([a1, a2, a3, a4]), \"Robot Length constraint violated\"\r\n",
        "\r\n",
        "  # Setting initial variables\r\n",
        "  q_n0 = q0\r\n",
        "  p = FK(q_n0)[:3,-1]\r\n",
        "\r\n",
        "  t_dot = p_goal - p\r\n",
        "  e = np.linalg.norm(t_dot)\r\n",
        "\r\n",
        "  Tt = np.block([ np.eye(3), np.zeros((3,3)) ])\r\n",
        "  q_n1 = q_n0\r\n",
        "  δt = time_step\r\n",
        "  i=0\r\n",
        "\r\n",
        "  start_time = time.time()\r\n",
        "\r\n",
        "  while True:\r\n",
        "    if (e < accuracy): \r\n",
        "      print(f\"Accuracy of {accuracy} reached\")\r\n",
        "      break\r\n",
        "\r\n",
        "    p = FK(q_n0)[:3,-1]\r\n",
        "    t_dot = p_goal - p\r\n",
        "    e = np.linalg.norm(t_dot)\r\n",
        "\r\n",
        "    J_inv = np.linalg.pinv( (Tt @ jacobian(q_n0)) )  \r\n",
        "    q_dot = J_inv @ t_dot\r\n",
        "    q_n1 = q_n0 + (δt * q_dot)  \r\n",
        "\r\n",
        "    q_n0 = q_n1\r\n",
        "\r\n",
        "    i+=1\r\n",
        "    if (i > max_iteration):\r\n",
        "      print(\"No convergence\")\r\n",
        "      break\r\n",
        "    \r\n",
        "  end_time = time.time()\r\n",
        "  print(f\"Total time taken {np.round(end_time - start_time, 4)} seconds\\n\")\r\n",
        "\r\n",
        "  return np.mod(q_n1, 2*np.pi)"
      ],
      "execution_count": 41,
      "outputs": []
    },
    {
      "cell_type": "markdown",
      "metadata": {
        "id": "DvznT3eyc1-V"
      },
      "source": [
        "##### <i>Weighted Pseudo Inverse</i> "
      ]
    },
    {
      "cell_type": "code",
      "metadata": {
        "id": "MIcykovjU8jM"
      },
      "source": [
        "def weighted_pseudo(q0, p_goal, weights=[10,30,25,20,90,42,57], time_step=0.1, max_iteration=3000, accuracy=0.001):\r\n",
        "\r\n",
        "  assert np.linalg.norm(p_goal) < 0.85*np.sum([a1, a2, a3, a4]), \"Robot Length constraint violated\"\r\n",
        "\r\n",
        "  q_n0 = q0\r\n",
        "  p = FK(q_n0)[:3,-1]\r\n",
        "  t1_dot = p_goal - p\r\n",
        "  e = np.linalg.norm(t1_dot)\r\n",
        "\r\n",
        "  Tt = np.eye(6)[:3]\r\n",
        "  v1 = np.zeros(3)\r\n",
        "  q_n1 = q_n0\r\n",
        "  q_dot = np.zeros(len(q0))\r\n",
        "  δt = time_step\r\n",
        "  i=0\r\n",
        "\r\n",
        "  start_time = time.time()\r\n",
        "  while True:\r\n",
        "    if (e < accuracy): \r\n",
        "      break\r\n",
        "    \r\n",
        "    fk = FK(q_n0)\r\n",
        "\r\n",
        "    p = fk[:3,-1]\r\n",
        "\r\n",
        "    t1_dot = p_goal - p\r\n",
        "\r\n",
        "    e = np.linalg.norm(t1_dot)\r\n",
        "\r\n",
        "    J1 = jacobian(q_n0)[:3]\r\n",
        "\r\n",
        "    w_inv = np.linalg.inv(np.diag(weights)) \r\n",
        "    j1_hash = w_inv @ J1.T @ np.linalg.inv( J1 @ w_inv @ J1.T )\r\n",
        "\r\n",
        "    q_dot = j1_hash @ t1_dot\r\n",
        "\r\n",
        "    q_n1 = q_n0 + (δt * q_dot)  \r\n",
        "\r\n",
        "    q_n0 = q_n1\r\n",
        "\r\n",
        "    i+=1\r\n",
        "    if (i > max_iteration):\r\n",
        "      print(\"No convergence\")\r\n",
        "      break\r\n",
        "    \r\n",
        "  end_time = time.time()\r\n",
        "  print(f\"to {np.round(p_goal,2)} :: {np.round(end_time - start_time, 4)} seconds\\n\")\r\n",
        "\r\n",
        "  return np.mod(q_n1, 2*np.pi)"
      ],
      "execution_count": 45,
      "outputs": []
    },
    {
      "cell_type": "code",
      "metadata": {
        "colab": {
          "base_uri": "https://localhost:8080/",
          "height": 1000
        },
        "id": "lcnomnA_Q8IA",
        "outputId": "3ad6c0c7-1b28-447c-b19e-ec55f23c455a"
      },
      "source": [
        "get_cnfs(method_fun=weighted_pseudo, q0=np.deg2rad([0,30,0,-20,0,45,0]))"
      ],
      "execution_count": 69,
      "outputs": [
        {
          "output_type": "stream",
          "text": [
            "to [ 0.4 -0.2  0.9] :: 0.6239 seconds\n",
            "\n",
            "to [ 0.4  -0.13  0.9 ] :: 0.666 seconds\n",
            "\n",
            "to [ 0.4  -0.07  0.9 ] :: 0.6511 seconds\n",
            "\n",
            "to [0.4 0.  0.9] :: 0.6804 seconds\n",
            "\n",
            "to [0.4  0.07 0.9 ] :: 0.7763 seconds\n",
            "\n",
            "to [0.4  0.13 0.9 ] :: 0.8455 seconds\n",
            "\n",
            "to [0.4 0.2 0.9] :: 0.6921 seconds\n",
            "\n",
            "to [0.4  0.27 0.9 ] :: 0.6639 seconds\n",
            "\n",
            "to [0.4  0.33 0.9 ] :: 0.7118 seconds\n",
            "\n",
            "to [0.4 0.4 0.9] :: 0.8536 seconds\n",
            "\n",
            "\n",
            "7.2 seconds : Total time using weighted_pseudo \n",
            "\n"
          ],
          "name": "stdout"
        },
        {
          "output_type": "display_data",
          "data": {
            "text/html": [
              "<html>\n",
              "<head><meta charset=\"utf-8\" /></head>\n",
              "<body>\n",
              "    <div>\n",
              "            <script src=\"https://cdnjs.cloudflare.com/ajax/libs/mathjax/2.7.5/MathJax.js?config=TeX-AMS-MML_SVG\"></script><script type=\"text/javascript\">if (window.MathJax) {MathJax.Hub.Config({SVG: {font: \"STIX-Web\"}});}</script>\n",
              "                <script type=\"text/javascript\">window.PlotlyConfig = {MathJaxConfig: 'local'};</script>\n",
              "        <script src=\"https://cdn.plot.ly/plotly-latest.min.js\"></script>    \n",
              "            <div id=\"416481b5-ab1a-4461-a89d-ac6131967e07\" class=\"plotly-graph-div\" style=\"height:700px; width:1000px;\"></div>\n",
              "            <script type=\"text/javascript\">\n",
              "                \n",
              "                    window.PLOTLYENV=window.PLOTLYENV || {};\n",
              "                    \n",
              "                if (document.getElementById(\"416481b5-ab1a-4461-a89d-ac6131967e07\")) {\n",
              "                    Plotly.newPlot(\n",
              "                        '416481b5-ab1a-4461-a89d-ac6131967e07',\n",
              "                        [{\"hoverinfo\": \"none\", \"marker\": {\"size\": 0.1}, \"name\": \"desired trajectory\", \"type\": \"scatter3d\", \"x\": [0.4, 0.4, 0.4, 0.4, 0.4, 0.4, 0.4, 0.4, 0.4, 0.4], \"y\": [-0.2, -0.13333333333333333, -0.06666666666666665, 2.7755575615628914e-17, 0.06666666666666671, 0.13333333333333336, 0.20000000000000007, 0.2666666666666668, 0.3333333333333334, 0.4], \"z\": [0.9, 0.9, 0.9, 0.9, 0.9, 0.9, 0.9, 0.9, 0.9, 0.9]}, {\"hoverinfo\": \"text\", \"hovertext\": [\"joint 0: 0.0\", \"joint 1: 45.0\", \"joint 2: 71.0\", \"joint 3: 340.0\", \"joint 4: 274.0\", \"joint 5: 2.0\", \"joint 6: 85.0\", \"joint 7: 0.0\"], \"line\": {\"color\": \"darkblue\", \"width\": 10}, \"marker\": {\"color\": [\"black\", \"orange\", \"yellow\", \"pink\", \"blue\", \"goldenrod\", \"green\", \"red\"], \"size\": 5.0}, \"name\": \"conf 0\", \"opacity\": 1, \"showlegend\": false, \"type\": \"scatter3d\", \"x\": [0.0, 0.0, 0.0, 0.28, 0.28, 0.31, 0.31, 0.4], \"y\": [0.0, 0.0, 0.0, -0.28, -0.28, -0.12, -0.12, -0.2], \"z\": [0.0, 0.36, 0.36, 0.4954055271763396, 0.4954055271763396, 0.8603525004675237, 0.8603525004675237, 0.900424369498423]}, {\"hoverinfo\": \"text\", \"hovertext\": [\"joint 0: 0.0\", \"joint 1: 48.0\", \"joint 2: 70.0\", \"joint 3: 336.0\", \"joint 4: 271.0\", \"joint 5: 2.0\", \"joint 6: 86.0\", \"joint 7: 0.0\"], \"line\": {\"color\": \"darkblue\", \"width\": 10}, \"marker\": {\"color\": [\"black\", \"orange\", \"yellow\", \"pink\", \"blue\", \"goldenrod\", \"green\", \"red\"], \"size\": 5.0}, \"name\": \"conf 1\", \"opacity\": 0.3, \"showlegend\": false, \"type\": \"scatter3d\", \"x\": [0.0, 0.0, 0.0, 0.29, 0.29, 0.31, 0.31, 0.4], \"y\": [0.0, 0.0, 0.0, -0.26, -0.26, -0.06, -0.06, -0.13], \"z\": [0.0, 0.36, 0.36, 0.5065325813240389, 0.5065325813240389, 0.8517307792693529, 0.8517307792693529, 0.9004163635002153]}, {\"hoverinfo\": \"text\", \"hovertext\": [\"joint 0: 0.0\", \"joint 1: 51.0\", \"joint 2: 67.0\", \"joint 3: 332.0\", \"joint 4: 268.0\", \"joint 5: 3.0\", \"joint 6: 86.0\", \"joint 7: 0.0\"], \"line\": {\"color\": \"darkblue\", \"width\": 10}, \"marker\": {\"color\": [\"black\", \"orange\", \"yellow\", \"pink\", \"blue\", \"goldenrod\", \"green\", \"red\"], \"size\": 5.0}, \"name\": \"conf 2\", \"opacity\": 0.3, \"showlegend\": false, \"type\": \"scatter3d\", \"x\": [0.0, 0.0, 0.0, 0.3, 0.3, 0.3, 0.3, 0.4], \"y\": [0.0, 0.0, 0.0, -0.24, -0.24, -0.01, -0.01, -0.07], \"z\": [0.0, 0.36, 0.36, 0.5221813266833927, 0.5221813266833927, 0.844409631199824, 0.844409631199824, 0.9003664741160444]}, {\"hoverinfo\": \"text\", \"hovertext\": [\"joint 0: 0.0\", \"joint 1: 55.0\", \"joint 2: 64.0\", \"joint 3: 328.0\", \"joint 4: 268.0\", \"joint 5: 3.0\", \"joint 6: 86.0\", \"joint 7: 0.0\"], \"line\": {\"color\": \"darkblue\", \"width\": 10}, \"marker\": {\"color\": [\"black\", \"orange\", \"yellow\", \"pink\", \"blue\", \"goldenrod\", \"green\", \"red\"], \"size\": 5.0}, \"name\": \"conf 3\", \"opacity\": 0.3, \"showlegend\": false, \"type\": \"scatter3d\", \"x\": [0.0, 0.0, 0.0, 0.31, 0.31, 0.3, 0.3, 0.4], \"y\": [0.0, 0.0, 0.0, -0.22, -0.22, 0.05, 0.05, -0.0], \"z\": [0.0, 0.36, 0.36, 0.5412137131958141, 0.5412137131958141, 0.8385234933332921, 0.8385234933332921, 0.9003571450961763]}, {\"hoverinfo\": \"text\", \"hovertext\": [\"joint 0: 0.0\", \"joint 1: 60.0\", \"joint 2: 61.0\", \"joint 3: 322.0\", \"joint 4: 268.0\", \"joint 5: 4.0\", \"joint 6: 85.0\", \"joint 7: 0.0\"], \"line\": {\"color\": \"darkblue\", \"width\": 10}, \"marker\": {\"color\": [\"black\", \"orange\", \"yellow\", \"pink\", \"blue\", \"goldenrod\", \"green\", \"red\"], \"size\": 5.0}, \"name\": \"conf 4\", \"opacity\": 0.3, \"showlegend\": false, \"type\": \"scatter3d\", \"x\": [0.0, 0.0, 0.0, 0.32, 0.32, 0.3, 0.3, 0.4], \"y\": [0.0, 0.0, 0.0, -0.19, -0.19, 0.11, 0.11, 0.07], \"z\": [0.0, 0.36, 0.36, 0.5622354167541432, 0.5622354167541432, 0.8339890870737414, 0.8339890870737414, 0.900311990946974]}, {\"hoverinfo\": \"text\", \"hovertext\": [\"joint 0: 0.0\", \"joint 1: 65.0\", \"joint 2: 58.0\", \"joint 3: 317.0\", \"joint 4: 270.0\", \"joint 5: 4.0\", \"joint 6: 84.0\", \"joint 7: 0.0\"], \"line\": {\"color\": \"darkblue\", \"width\": 10}, \"marker\": {\"color\": [\"black\", \"orange\", \"yellow\", \"pink\", \"blue\", \"goldenrod\", \"green\", \"red\"], \"size\": 5.0}, \"name\": \"conf 5\", \"opacity\": 0.3, \"showlegend\": false, \"type\": \"scatter3d\", \"x\": [0.0, 0.0, 0.0, 0.32, 0.32, 0.3, 0.3, 0.4], \"y\": [0.0, 0.0, 0.0, -0.15, -0.15, 0.16, 0.16, 0.13], \"z\": [0.0, 0.36, 0.36, 0.5837942242648333, 0.5837942242648333, 0.8307108820454185, 0.8307108820454185, 0.9002712380065836]}, {\"hoverinfo\": \"text\", \"hovertext\": [\"joint 0: 0.0\", \"joint 1: 71.0\", \"joint 2: 54.0\", \"joint 3: 310.0\", \"joint 4: 273.0\", \"joint 5: 5.0\", \"joint 6: 82.0\", \"joint 7: 0.0\"], \"line\": {\"color\": \"darkblue\", \"width\": 10}, \"marker\": {\"color\": [\"black\", \"orange\", \"yellow\", \"pink\", \"blue\", \"goldenrod\", \"green\", \"red\"], \"size\": 5.0}, \"name\": \"conf 6\", \"opacity\": 0.3, \"showlegend\": false, \"type\": \"scatter3d\", \"x\": [0.0, 0.0, 0.0, 0.32, 0.32, 0.3, 0.3, 0.4], \"y\": [0.0, 0.0, 0.0, -0.11, -0.11, 0.22, 0.22, 0.2], \"z\": [0.0, 0.36, 0.36, 0.6043299234623042, 0.6043299234623042, 0.8285174970932322, 0.8285174970932322, 0.900260379807296]}, {\"hoverinfo\": \"text\", \"hovertext\": [\"joint 0: 0.0\", \"joint 1: 78.0\", \"joint 2: 51.0\", \"joint 3: 303.0\", \"joint 4: 278.0\", \"joint 5: 5.0\", \"joint 6: 80.0\", \"joint 7: 0.0\"], \"line\": {\"color\": \"darkblue\", \"width\": 10}, \"marker\": {\"color\": [\"black\", \"orange\", \"yellow\", \"pink\", \"blue\", \"goldenrod\", \"green\", \"red\"], \"size\": 5.0}, \"name\": \"conf 7\", \"opacity\": 0.3, \"showlegend\": false, \"type\": \"scatter3d\", \"x\": [0.0, 0.0, 0.0, 0.32, 0.32, 0.3, 0.3, 0.4], \"y\": [0.0, 0.0, 0.0, -0.07, -0.07, 0.28, 0.28, 0.27], \"z\": [0.0, 0.36, 0.36, 0.6221842180448014, 0.6221842180448014, 0.8271938829426312, 0.8271938829426312, 0.9002229036022265]}, {\"hoverinfo\": \"text\", \"hovertext\": [\"joint 0: 0.0\", \"joint 1: 87.0\", \"joint 2: 49.0\", \"joint 3: 296.0\", \"joint 4: 284.0\", \"joint 5: 6.0\", \"joint 6: 77.0\", \"joint 7: 0.0\"], \"line\": {\"color\": \"darkblue\", \"width\": 10}, \"marker\": {\"color\": [\"black\", \"orange\", \"yellow\", \"pink\", \"blue\", \"goldenrod\", \"green\", \"red\"], \"size\": 5.0}, \"name\": \"conf 8\", \"opacity\": 0.3, \"showlegend\": false, \"type\": \"scatter3d\", \"x\": [0.0, 0.0, 0.0, 0.32, 0.32, 0.3, 0.3, 0.4], \"y\": [0.0, 0.0, 0.0, -0.02, -0.02, 0.33, 0.33, 0.33], \"z\": [0.0, 0.36, 0.36, 0.635891991697557, 0.635891991697557, 0.8266264064374093, 0.8266264064374093, 0.9002088719789025]}, {\"hoverinfo\": \"text\", \"hovertext\": [\"joint 0: 0.0\", \"joint 1: 97.0\", \"joint 2: 47.0\", \"joint 3: 288.0\", \"joint 4: 291.0\", \"joint 5: 6.0\", \"joint 6: 72.0\", \"joint 7: 0.0\"], \"line\": {\"color\": \"darkblue\", \"width\": 10}, \"marker\": {\"color\": [\"black\", \"orange\", \"yellow\", \"pink\", \"blue\", \"goldenrod\", \"green\", \"red\"], \"size\": 5.0}, \"name\": \"conf 9\", \"opacity\": 1, \"showlegend\": false, \"type\": \"scatter3d\", \"x\": [0.0, 0.0, 0.0, 0.31, 0.31, 0.3, 0.3, 0.4], \"y\": [0.0, 0.0, 0.0, 0.04, 0.04, 0.39, 0.39, 0.4], \"z\": [0.0, 0.36, 0.36, 0.6443536543711883, 0.6443536543711883, 0.8266507794074198, 0.8266507794074198, 0.9001715806792057]}],\n",
              "                        {\"colorscale\": {\"diverging\": [[0.0, \"rgb(3, 35, 51)\"], [0.09090909090909091, \"rgb(13, 48, 100)\"], [0.18181818181818182, \"rgb(53, 50, 155)\"], [0.2727272727272727, \"rgb(93, 62, 153)\"], [0.36363636363636365, \"rgb(126, 77, 143)\"], [0.45454545454545453, \"rgb(158, 89, 135)\"], [0.5454545454545454, \"rgb(193, 100, 121)\"], [0.6363636363636364, \"rgb(225, 113, 97)\"], [0.7272727272727273, \"rgb(246, 139, 69)\"], [0.8181818181818182, \"rgb(251, 173, 60)\"], [0.9090909090909091, \"rgb(246, 211, 70)\"], [1.0, \"rgb(231, 250, 90)\"]]}, \"height\": 700, \"scene\": {\"aspectratio\": {\"x\": 1.25, \"y\": 1.25, \"z\": 1}, \"camera\": {\"eye\": {\"x\": -1.25, \"y\": -1.25, \"z\": 2}}, \"xaxis\": {\"nticks\": 8, \"range\": [-0.09999999999999998, 0.9], \"title\": {\"text\": \"Robot x-axis\"}}, \"yaxis\": {\"nticks\": 8, \"range\": [-0.7, 0.9], \"title\": {\"text\": \"Robot y-axis\"}}, \"zaxis\": {\"nticks\": 8, \"range\": [-0.05, 1.3], \"title\": {\"text\": \"Robot z-axis\"}}}, \"template\": {\"data\": {\"bar\": [{\"error_x\": {\"color\": \"#2a3f5f\"}, \"error_y\": {\"color\": \"#2a3f5f\"}, \"marker\": {\"line\": {\"color\": \"#E5ECF6\", \"width\": 0.5}}, \"type\": \"bar\"}], \"barpolar\": [{\"marker\": {\"line\": {\"color\": \"#E5ECF6\", \"width\": 0.5}}, \"type\": \"barpolar\"}], \"carpet\": [{\"aaxis\": {\"endlinecolor\": \"#2a3f5f\", \"gridcolor\": \"white\", \"linecolor\": \"white\", \"minorgridcolor\": \"white\", \"startlinecolor\": \"#2a3f5f\"}, \"baxis\": {\"endlinecolor\": \"#2a3f5f\", \"gridcolor\": \"white\", \"linecolor\": \"white\", \"minorgridcolor\": \"white\", \"startlinecolor\": \"#2a3f5f\"}, \"type\": \"carpet\"}], \"choropleth\": [{\"colorbar\": {\"outlinewidth\": 0, \"ticks\": \"\"}, \"type\": \"choropleth\"}], \"contour\": [{\"colorbar\": {\"outlinewidth\": 0, \"ticks\": \"\"}, \"colorscale\": [[0.0, \"#0d0887\"], [0.1111111111111111, \"#46039f\"], [0.2222222222222222, \"#7201a8\"], [0.3333333333333333, \"#9c179e\"], [0.4444444444444444, \"#bd3786\"], [0.5555555555555556, \"#d8576b\"], [0.6666666666666666, \"#ed7953\"], [0.7777777777777778, \"#fb9f3a\"], [0.8888888888888888, \"#fdca26\"], [1.0, \"#f0f921\"]], \"type\": \"contour\"}], \"contourcarpet\": [{\"colorbar\": {\"outlinewidth\": 0, \"ticks\": \"\"}, \"type\": \"contourcarpet\"}], \"heatmap\": [{\"colorbar\": {\"outlinewidth\": 0, \"ticks\": \"\"}, \"colorscale\": [[0.0, \"#0d0887\"], [0.1111111111111111, \"#46039f\"], [0.2222222222222222, \"#7201a8\"], [0.3333333333333333, \"#9c179e\"], [0.4444444444444444, \"#bd3786\"], [0.5555555555555556, \"#d8576b\"], [0.6666666666666666, \"#ed7953\"], [0.7777777777777778, \"#fb9f3a\"], [0.8888888888888888, \"#fdca26\"], [1.0, \"#f0f921\"]], \"type\": \"heatmap\"}], \"heatmapgl\": [{\"colorbar\": {\"outlinewidth\": 0, \"ticks\": \"\"}, \"colorscale\": [[0.0, \"#0d0887\"], [0.1111111111111111, \"#46039f\"], [0.2222222222222222, \"#7201a8\"], [0.3333333333333333, \"#9c179e\"], [0.4444444444444444, \"#bd3786\"], [0.5555555555555556, \"#d8576b\"], [0.6666666666666666, \"#ed7953\"], [0.7777777777777778, \"#fb9f3a\"], [0.8888888888888888, \"#fdca26\"], [1.0, \"#f0f921\"]], \"type\": \"heatmapgl\"}], \"histogram\": [{\"marker\": {\"colorbar\": {\"outlinewidth\": 0, \"ticks\": \"\"}}, \"type\": \"histogram\"}], \"histogram2d\": [{\"colorbar\": {\"outlinewidth\": 0, \"ticks\": \"\"}, \"colorscale\": [[0.0, \"#0d0887\"], [0.1111111111111111, \"#46039f\"], [0.2222222222222222, \"#7201a8\"], [0.3333333333333333, \"#9c179e\"], [0.4444444444444444, \"#bd3786\"], [0.5555555555555556, \"#d8576b\"], [0.6666666666666666, \"#ed7953\"], [0.7777777777777778, \"#fb9f3a\"], [0.8888888888888888, \"#fdca26\"], [1.0, \"#f0f921\"]], \"type\": \"histogram2d\"}], \"histogram2dcontour\": [{\"colorbar\": {\"outlinewidth\": 0, \"ticks\": \"\"}, \"colorscale\": [[0.0, \"#0d0887\"], [0.1111111111111111, \"#46039f\"], [0.2222222222222222, \"#7201a8\"], [0.3333333333333333, \"#9c179e\"], [0.4444444444444444, \"#bd3786\"], [0.5555555555555556, \"#d8576b\"], [0.6666666666666666, \"#ed7953\"], [0.7777777777777778, \"#fb9f3a\"], [0.8888888888888888, \"#fdca26\"], [1.0, \"#f0f921\"]], \"type\": \"histogram2dcontour\"}], \"mesh3d\": [{\"colorbar\": {\"outlinewidth\": 0, \"ticks\": \"\"}, \"type\": \"mesh3d\"}], \"parcoords\": [{\"line\": {\"colorbar\": {\"outlinewidth\": 0, \"ticks\": \"\"}}, \"type\": \"parcoords\"}], \"pie\": [{\"automargin\": true, \"type\": \"pie\"}], \"scatter\": [{\"marker\": {\"colorbar\": {\"outlinewidth\": 0, \"ticks\": \"\"}}, \"type\": \"scatter\"}], \"scatter3d\": [{\"line\": {\"colorbar\": {\"outlinewidth\": 0, \"ticks\": \"\"}}, \"marker\": {\"colorbar\": {\"outlinewidth\": 0, \"ticks\": \"\"}}, \"type\": \"scatter3d\"}], \"scattercarpet\": [{\"marker\": {\"colorbar\": {\"outlinewidth\": 0, \"ticks\": \"\"}}, \"type\": \"scattercarpet\"}], \"scattergeo\": [{\"marker\": {\"colorbar\": {\"outlinewidth\": 0, \"ticks\": \"\"}}, \"type\": \"scattergeo\"}], \"scattergl\": [{\"marker\": {\"colorbar\": {\"outlinewidth\": 0, \"ticks\": \"\"}}, \"type\": \"scattergl\"}], \"scattermapbox\": [{\"marker\": {\"colorbar\": {\"outlinewidth\": 0, \"ticks\": \"\"}}, \"type\": \"scattermapbox\"}], \"scatterpolar\": [{\"marker\": {\"colorbar\": {\"outlinewidth\": 0, \"ticks\": \"\"}}, \"type\": \"scatterpolar\"}], \"scatterpolargl\": [{\"marker\": {\"colorbar\": {\"outlinewidth\": 0, \"ticks\": \"\"}}, \"type\": \"scatterpolargl\"}], \"scatterternary\": [{\"marker\": {\"colorbar\": {\"outlinewidth\": 0, \"ticks\": \"\"}}, \"type\": \"scatterternary\"}], \"surface\": [{\"colorbar\": {\"outlinewidth\": 0, \"ticks\": \"\"}, \"colorscale\": [[0.0, \"#0d0887\"], [0.1111111111111111, \"#46039f\"], [0.2222222222222222, \"#7201a8\"], [0.3333333333333333, \"#9c179e\"], [0.4444444444444444, \"#bd3786\"], [0.5555555555555556, \"#d8576b\"], [0.6666666666666666, \"#ed7953\"], [0.7777777777777778, \"#fb9f3a\"], [0.8888888888888888, \"#fdca26\"], [1.0, \"#f0f921\"]], \"type\": \"surface\"}], \"table\": [{\"cells\": {\"fill\": {\"color\": \"#EBF0F8\"}, \"line\": {\"color\": \"white\"}}, \"header\": {\"fill\": {\"color\": \"#C8D4E3\"}, \"line\": {\"color\": \"white\"}}, \"type\": \"table\"}]}, \"layout\": {\"annotationdefaults\": {\"arrowcolor\": \"#2a3f5f\", \"arrowhead\": 0, \"arrowwidth\": 1}, \"coloraxis\": {\"colorbar\": {\"outlinewidth\": 0, \"ticks\": \"\"}}, \"colorscale\": {\"diverging\": [[0, \"#8e0152\"], [0.1, \"#c51b7d\"], [0.2, \"#de77ae\"], [0.3, \"#f1b6da\"], [0.4, \"#fde0ef\"], [0.5, \"#f7f7f7\"], [0.6, \"#e6f5d0\"], [0.7, \"#b8e186\"], [0.8, \"#7fbc41\"], [0.9, \"#4d9221\"], [1, \"#276419\"]], \"sequential\": [[0.0, \"#0d0887\"], [0.1111111111111111, \"#46039f\"], [0.2222222222222222, \"#7201a8\"], [0.3333333333333333, \"#9c179e\"], [0.4444444444444444, \"#bd3786\"], [0.5555555555555556, \"#d8576b\"], [0.6666666666666666, \"#ed7953\"], [0.7777777777777778, \"#fb9f3a\"], [0.8888888888888888, \"#fdca26\"], [1.0, \"#f0f921\"]], \"sequentialminus\": [[0.0, \"#0d0887\"], [0.1111111111111111, \"#46039f\"], [0.2222222222222222, \"#7201a8\"], [0.3333333333333333, \"#9c179e\"], [0.4444444444444444, \"#bd3786\"], [0.5555555555555556, \"#d8576b\"], [0.6666666666666666, \"#ed7953\"], [0.7777777777777778, \"#fb9f3a\"], [0.8888888888888888, \"#fdca26\"], [1.0, \"#f0f921\"]]}, \"colorway\": [\"#636efa\", \"#EF553B\", \"#00cc96\", \"#ab63fa\", \"#FFA15A\", \"#19d3f3\", \"#FF6692\", \"#B6E880\", \"#FF97FF\", \"#FECB52\"], \"font\": {\"color\": \"#2a3f5f\"}, \"geo\": {\"bgcolor\": \"white\", \"lakecolor\": \"white\", \"landcolor\": \"#E5ECF6\", \"showlakes\": true, \"showland\": true, \"subunitcolor\": \"white\"}, \"hoverlabel\": {\"align\": \"left\"}, \"hovermode\": \"closest\", \"mapbox\": {\"style\": \"light\"}, \"paper_bgcolor\": \"white\", \"plot_bgcolor\": \"#E5ECF6\", \"polar\": {\"angularaxis\": {\"gridcolor\": \"white\", \"linecolor\": \"white\", \"ticks\": \"\"}, \"bgcolor\": \"#E5ECF6\", \"radialaxis\": {\"gridcolor\": \"white\", \"linecolor\": \"white\", \"ticks\": \"\"}}, \"scene\": {\"xaxis\": {\"backgroundcolor\": \"#E5ECF6\", \"gridcolor\": \"white\", \"gridwidth\": 2, \"linecolor\": \"white\", \"showbackground\": true, \"ticks\": \"\", \"zerolinecolor\": \"white\"}, \"yaxis\": {\"backgroundcolor\": \"#E5ECF6\", \"gridcolor\": \"white\", \"gridwidth\": 2, \"linecolor\": \"white\", \"showbackground\": true, \"ticks\": \"\", \"zerolinecolor\": \"white\"}, \"zaxis\": {\"backgroundcolor\": \"#E5ECF6\", \"gridcolor\": \"white\", \"gridwidth\": 2, \"linecolor\": \"white\", \"showbackground\": true, \"ticks\": \"\", \"zerolinecolor\": \"white\"}}, \"shapedefaults\": {\"line\": {\"color\": \"#2a3f5f\"}}, \"ternary\": {\"aaxis\": {\"gridcolor\": \"white\", \"linecolor\": \"white\", \"ticks\": \"\"}, \"baxis\": {\"gridcolor\": \"white\", \"linecolor\": \"white\", \"ticks\": \"\"}, \"bgcolor\": \"#E5ECF6\", \"caxis\": {\"gridcolor\": \"white\", \"linecolor\": \"white\", \"ticks\": \"\"}}, \"title\": {\"x\": 0.05}, \"xaxis\": {\"automargin\": true, \"gridcolor\": \"white\", \"linecolor\": \"white\", \"ticks\": \"\", \"title\": {\"standoff\": 15}, \"zerolinecolor\": \"white\", \"zerolinewidth\": 2}, \"yaxis\": {\"automargin\": true, \"gridcolor\": \"white\", \"linecolor\": \"white\", \"ticks\": \"\", \"title\": {\"standoff\": 15}, \"zerolinecolor\": \"white\", \"zerolinewidth\": 2}}}, \"title\": {\"text\": \"Robot plot in different configurations\"}, \"width\": 1000},\n",
              "                        {\"responsive\": true}\n",
              "                    ).then(function(){\n",
              "                            \n",
              "var gd = document.getElementById('416481b5-ab1a-4461-a89d-ac6131967e07');\n",
              "var x = new MutationObserver(function (mutations, observer) {{\n",
              "        var display = window.getComputedStyle(gd).display;\n",
              "        if (!display || display === 'none') {{\n",
              "            console.log([gd, 'removed!']);\n",
              "            Plotly.purge(gd);\n",
              "            observer.disconnect();\n",
              "        }}\n",
              "}});\n",
              "\n",
              "// Listen for the removal of the full notebook cells\n",
              "var notebookContainer = gd.closest('#notebook-container');\n",
              "if (notebookContainer) {{\n",
              "    x.observe(notebookContainer, {childList: true});\n",
              "}}\n",
              "\n",
              "// Listen for the clearing of the current output cell\n",
              "var outputEl = gd.closest('.output');\n",
              "if (outputEl) {{\n",
              "    x.observe(outputEl, {childList: true});\n",
              "}}\n",
              "\n",
              "                        })\n",
              "                };\n",
              "                \n",
              "            </script>\n",
              "        </div>\n",
              "</body>\n",
              "</html>"
            ]
          },
          "metadata": {
            "tags": []
          }
        }
      ]
    },
    {
      "cell_type": "markdown",
      "metadata": {
        "id": "L4fCbNyESM0v"
      },
      "source": [
        "##### <i>Damped Least Square</i> "
      ]
    },
    {
      "cell_type": "code",
      "metadata": {
        "id": "tegbC49LSPW_"
      },
      "source": [
        "def damped_least_squares(q0, p_goal, lmbda = sqrt(0.01), time_step=0.01, max_iteration=3000, accuracy=0.001):\r\n",
        "\r\n",
        "  assert np.linalg.norm(p_goal[:3]) <= 0.85*np.sum([a1, a2, a3, a4]), \"Robot Length constraint violated\"\r\n",
        "\r\n",
        "  q_n0 = q0\r\n",
        "  p = FK(q_n0)[:3,-1]\r\n",
        "  t_dot = p_goal[:3] - p\r\n",
        "  e = np.linalg.norm(t_dot)\r\n",
        "\r\n",
        "  Tt = np.block([ np.eye(3), np.zeros((3,3)) ])\r\n",
        "  q_n1 = q_n0\r\n",
        "  δt = time_step\r\n",
        "  i=0\r\n",
        "\r\n",
        "  start_time = time.time()\r\n",
        "  while True:\r\n",
        "    if (e < accuracy): \r\n",
        "      break\r\n",
        "    \r\n",
        "    fk = FK(q_n0)\r\n",
        "\r\n",
        "    rx, ry, rz = euler_angles(fk[:3,:3])\r\n",
        "\r\n",
        "    p = np.hstack([fk[:3,-1], [rx, ry, rz] ]) # current position and orientation\r\n",
        "\r\n",
        "    t_dot = p_goal[:3] - p[:3]\r\n",
        "\r\n",
        "    e = np.linalg.norm(t_dot)\r\n",
        "\r\n",
        "    Jt = np.dot(Tt, jacobian(q_n0))\r\n",
        "\r\n",
        "    j_star = (Jt @ Jt.T)  + (lmbda**2 * np.eye(3))\r\n",
        "\r\n",
        "    J_dls = Jt.T @ np.linalg.inv( j_star )\r\n",
        "\r\n",
        "    q_dot = np.linalg.multi_dot([J_dls, t_dot])\r\n",
        "\r\n",
        "    q_n1 = q_n0 + (δt * q_dot)  \r\n",
        "\r\n",
        "    q_n0 = q_n1\r\n",
        "\r\n",
        "    i+=1\r\n",
        "    if (i > max_iteration):\r\n",
        "      print(\"No convergence\")\r\n",
        "      break\r\n",
        "    \r\n",
        "  end_time = time.time()\r\n",
        "  print(f\"to {np.round(p_goal,2)} :: time taken {np.round(end_time - start_time, 4)} seconds\\n\")\r\n",
        "\r\n",
        "  return np.mod(q_n1, 2*np.pi)"
      ],
      "execution_count": 70,
      "outputs": []
    },
    {
      "cell_type": "code",
      "metadata": {
        "colab": {
          "base_uri": "https://localhost:8080/",
          "height": 1000
        },
        "id": "HXT2wf6nUfr2",
        "outputId": "8270e979-fe68-4fab-f48f-267f8c54daf9"
      },
      "source": [
        "get_cnfs(method_fun=damped_least_squares, q0=np.deg2rad([0,0,0,0,0,0,0]))"
      ],
      "execution_count": 71,
      "outputs": [
        {
          "output_type": "stream",
          "text": [
            "to [ 0.4 -0.2  0.9] :: time taken 7.4329 seconds\n",
            "\n",
            "to [ 0.4  -0.13  0.9 ] :: time taken 7.6485 seconds\n",
            "\n",
            "to [ 0.4  -0.07  0.9 ] :: time taken 8.1065 seconds\n",
            "\n",
            "to [0.4 0.  0.9] :: time taken 9.497 seconds\n",
            "\n",
            "to [0.4  0.07 0.9 ] :: time taken 7.4119 seconds\n",
            "\n",
            "to [0.4  0.13 0.9 ] :: time taken 7.9003 seconds\n",
            "\n",
            "to [0.4 0.2 0.9] :: time taken 7.835 seconds\n",
            "\n",
            "to [0.4  0.27 0.9 ] :: time taken 7.3919 seconds\n",
            "\n",
            "to [0.4  0.33 0.9 ] :: time taken 7.4864 seconds\n",
            "\n",
            "to [0.4 0.4 0.9] :: time taken 7.6078 seconds\n",
            "\n",
            "\n",
            "78.3 seconds : Total time using damped_least_squares \n",
            "\n"
          ],
          "name": "stdout"
        },
        {
          "output_type": "display_data",
          "data": {
            "text/html": [
              "<html>\n",
              "<head><meta charset=\"utf-8\" /></head>\n",
              "<body>\n",
              "    <div>\n",
              "            <script src=\"https://cdnjs.cloudflare.com/ajax/libs/mathjax/2.7.5/MathJax.js?config=TeX-AMS-MML_SVG\"></script><script type=\"text/javascript\">if (window.MathJax) {MathJax.Hub.Config({SVG: {font: \"STIX-Web\"}});}</script>\n",
              "                <script type=\"text/javascript\">window.PlotlyConfig = {MathJaxConfig: 'local'};</script>\n",
              "        <script src=\"https://cdn.plot.ly/plotly-latest.min.js\"></script>    \n",
              "            <div id=\"a28393a0-281f-47ae-b483-09704fc1879d\" class=\"plotly-graph-div\" style=\"height:700px; width:1000px;\"></div>\n",
              "            <script type=\"text/javascript\">\n",
              "                \n",
              "                    window.PLOTLYENV=window.PLOTLYENV || {};\n",
              "                    \n",
              "                if (document.getElementById(\"a28393a0-281f-47ae-b483-09704fc1879d\")) {\n",
              "                    Plotly.newPlot(\n",
              "                        'a28393a0-281f-47ae-b483-09704fc1879d',\n",
              "                        [{\"hoverinfo\": \"none\", \"marker\": {\"size\": 0.1}, \"name\": \"desired trajectory\", \"type\": \"scatter3d\", \"x\": [0.4, 0.4, 0.4, 0.4, 0.4, 0.4, 0.4, 0.4, 0.4, 0.4], \"y\": [-0.2, -0.13333333333333333, -0.06666666666666665, 2.7755575615628914e-17, 0.06666666666666671, 0.13333333333333336, 0.20000000000000007, 0.2666666666666668, 0.3333333333333334, 0.4], \"z\": [0.9, 0.9, 0.9, 0.9, 0.9, 0.9, 0.9, 0.9, 0.9, 0.9]}, {\"hoverinfo\": \"text\", \"hovertext\": [\"joint 0: 0.0\", \"joint 1: 22.0\", \"joint 2: 351.0\", \"joint 3: 35.0\", \"joint 4: 77.0\", \"joint 5: 3.0\", \"joint 6: 26.0\", \"joint 7: 0.0\"], \"line\": {\"color\": \"darkblue\", \"width\": 10}, \"marker\": {\"color\": [\"black\", \"orange\", \"yellow\", \"pink\", \"blue\", \"goldenrod\", \"green\", \"red\"], \"size\": 5.0}, \"name\": \"conf 0\", \"opacity\": 1, \"showlegend\": false, \"type\": \"scatter3d\", \"x\": [0.0, 0.0, 0.0, -0.03, -0.03, 0.29, 0.29, 0.4], \"y\": [0.0, 0.0, 0.0, 0.06, 0.06, -0.13, -0.13, -0.2], \"z\": [0.0, 0.36, 0.36, 0.7742928382720342, 0.7742928382720342, 0.9133992619245888, 0.9133992619245888, 0.9007133366105746]}, {\"hoverinfo\": \"text\", \"hovertext\": [\"joint 0: 0.0\", \"joint 1: 19.0\", \"joint 2: 345.0\", \"joint 3: 40.0\", \"joint 4: 80.0\", \"joint 5: 3.0\", \"joint 6: 27.0\", \"joint 7: 0.0\"], \"line\": {\"color\": \"darkblue\", \"width\": 10}, \"marker\": {\"color\": [\"black\", \"orange\", \"yellow\", \"pink\", \"blue\", \"goldenrod\", \"green\", \"red\"], \"size\": 5.0}, \"name\": \"conf 1\", \"opacity\": 0.3, \"showlegend\": false, \"type\": \"scatter3d\", \"x\": [0.0, 0.0, 0.0, -0.04, -0.04, 0.29, 0.29, 0.4], \"y\": [0.0, 0.0, 0.0, 0.11, 0.11, -0.07, -0.07, -0.13], \"z\": [0.0, 0.36, 0.36, 0.7649283163152225, 0.7649283163152225, 0.9123552782788826, 0.9123552782788826, 0.9007101315874706]}, {\"hoverinfo\": \"text\", \"hovertext\": [\"joint 0: 0.0\", \"joint 1: 15.0\", \"joint 2: 338.0\", \"joint 3: 45.0\", \"joint 4: 82.0\", \"joint 5: 4.0\", \"joint 6: 28.0\", \"joint 7: 0.0\"], \"line\": {\"color\": \"darkblue\", \"width\": 10}, \"marker\": {\"color\": [\"black\", \"orange\", \"yellow\", \"pink\", \"blue\", \"goldenrod\", \"green\", \"red\"], \"size\": 5.0}, \"name\": \"conf 2\", \"opacity\": 0.3, \"showlegend\": false, \"type\": \"scatter3d\", \"x\": [0.0, 0.0, 0.0, -0.04, -0.04, 0.29, 0.29, 0.4], \"y\": [0.0, 0.0, 0.0, 0.15, 0.15, -0.0, -0.0, -0.07], \"z\": [0.0, 0.36, 0.36, 0.7486887972224974, 0.7486887972224974, 0.908509782724692, 0.908509782724692, 0.9006890673282854]}, {\"hoverinfo\": \"text\", \"hovertext\": [\"joint 0: 0.0\", \"joint 1: 355.0\", \"joint 2: 33.0\", \"joint 3: 310.0\", \"joint 4: 278.0\", \"joint 5: 356.0\", \"joint 6: 331.0\", \"joint 7: 0.0\"], \"line\": {\"color\": \"darkblue\", \"width\": 10}, \"marker\": {\"color\": [\"black\", \"orange\", \"yellow\", \"pink\", \"blue\", \"goldenrod\", \"green\", \"red\"], \"size\": 5.0}, \"name\": \"conf 3\", \"opacity\": 0.3, \"showlegend\": false, \"type\": \"scatter3d\", \"x\": [0.0, 0.0, 0.0, -0.02, -0.02, 0.3, 0.3, 0.4], \"y\": [0.0, 0.0, 0.0, -0.23, -0.23, -0.08, -0.08, -0.0], \"z\": [0.0, 0.36, 0.36, 0.712110712532993, 0.712110712532993, 0.8980246939811309, 0.8980246939811309, 0.9006924796975334]}, {\"hoverinfo\": \"text\", \"hovertext\": [\"joint 0: 0.0\", \"joint 1: 345.0\", \"joint 2: 22.0\", \"joint 3: 315.0\", \"joint 4: 278.0\", \"joint 5: 356.0\", \"joint 6: 332.0\", \"joint 7: 0.0\"], \"line\": {\"color\": \"darkblue\", \"width\": 10}, \"marker\": {\"color\": [\"black\", \"orange\", \"yellow\", \"pink\", \"blue\", \"goldenrod\", \"green\", \"red\"], \"size\": 5.0}, \"name\": \"conf 4\", \"opacity\": 0.3, \"showlegend\": false, \"type\": \"scatter3d\", \"x\": [0.0, 0.0, 0.0, -0.04, -0.04, 0.29, 0.29, 0.4], \"y\": [0.0, 0.0, 0.0, -0.15, -0.15, 0.0, 0.0, 0.07], \"z\": [0.0, 0.36, 0.36, 0.7486887972224974, 0.7486887972224974, 0.9085097827246916, 0.9085097827246916, 0.9006890673282849]}, {\"hoverinfo\": \"text\", \"hovertext\": [\"joint 0: 0.0\", \"joint 1: 341.0\", \"joint 2: 15.0\", \"joint 3: 320.0\", \"joint 4: 280.0\", \"joint 5: 357.0\", \"joint 6: 333.0\", \"joint 7: 0.0\"], \"line\": {\"color\": \"darkblue\", \"width\": 10}, \"marker\": {\"color\": [\"black\", \"orange\", \"yellow\", \"pink\", \"blue\", \"goldenrod\", \"green\", \"red\"], \"size\": 5.0}, \"name\": \"conf 5\", \"opacity\": 0.3, \"showlegend\": false, \"type\": \"scatter3d\", \"x\": [0.0, 0.0, 0.0, -0.04, -0.04, 0.29, 0.29, 0.4], \"y\": [0.0, 0.0, 0.0, -0.11, -0.11, 0.07, 0.07, 0.13], \"z\": [0.0, 0.36, 0.36, 0.7649283163152225, 0.7649283163152225, 0.9123552782788829, 0.9123552782788829, 0.9007101315874708]}, {\"hoverinfo\": \"text\", \"hovertext\": [\"joint 0: 0.0\", \"joint 1: 338.0\", \"joint 2: 9.0\", \"joint 3: 325.0\", \"joint 4: 283.0\", \"joint 5: 357.0\", \"joint 6: 334.0\", \"joint 7: 0.0\"], \"line\": {\"color\": \"darkblue\", \"width\": 10}, \"marker\": {\"color\": [\"black\", \"orange\", \"yellow\", \"pink\", \"blue\", \"goldenrod\", \"green\", \"red\"], \"size\": 5.0}, \"name\": \"conf 6\", \"opacity\": 0.3, \"showlegend\": false, \"type\": \"scatter3d\", \"x\": [0.0, 0.0, 0.0, -0.03, -0.03, 0.29, 0.29, 0.4], \"y\": [0.0, 0.0, 0.0, -0.06, -0.06, 0.13, 0.13, 0.2], \"z\": [0.0, 0.36, 0.36, 0.7742928382720342, 0.7742928382720342, 0.9133992619245885, 0.9133992619245885, 0.9007133366105743]}, {\"hoverinfo\": \"text\", \"hovertext\": [\"joint 0: 0.0\", \"joint 1: 336.0\", \"joint 2: 4.0\", \"joint 3: 330.0\", \"joint 4: 286.0\", \"joint 5: 358.0\", \"joint 6: 335.0\", \"joint 7: 0.0\"], \"line\": {\"color\": \"darkblue\", \"width\": 10}, \"marker\": {\"color\": [\"black\", \"orange\", \"yellow\", \"pink\", \"blue\", \"goldenrod\", \"green\", \"red\"], \"size\": 5.0}, \"name\": \"conf 7\", \"opacity\": 0.3, \"showlegend\": false, \"type\": \"scatter3d\", \"x\": [0.0, 0.0, 0.0, -0.01, -0.01, 0.3, 0.3, 0.4], \"y\": [0.0, 0.0, 0.0, -0.02, -0.02, 0.19, 0.19, 0.27], \"z\": [0.0, 0.36, 0.36, 0.7791577224017117, 0.7791577224017117, 0.9123671095906463, 0.9123671095906463, 0.9006951733184116]}, {\"hoverinfo\": \"text\", \"hovertext\": [\"joint 0: 0.0\", \"joint 1: 335.0\", \"joint 2: 358.0\", \"joint 3: 333.0\", \"joint 4: 291.0\", \"joint 5: 358.0\", \"joint 6: 337.0\", \"joint 7: 0.0\"], \"line\": {\"color\": \"darkblue\", \"width\": 10}, \"marker\": {\"color\": [\"black\", \"orange\", \"yellow\", \"pink\", \"blue\", \"goldenrod\", \"green\", \"red\"], \"size\": 5.0}, \"name\": \"conf 8\", \"opacity\": 0.3, \"showlegend\": false, \"type\": \"scatter3d\", \"x\": [0.0, 0.0, 0.0, 0.01, 0.01, 0.3, 0.3, 0.4], \"y\": [0.0, 0.0, 0.0, 0.02, 0.02, 0.26, 0.26, 0.33], \"z\": [0.0, 0.36, 0.36, 0.779626911281715, 0.779626911281715, 0.9093489526177518, 0.9093489526177518, 0.9006517456155417]}, {\"hoverinfo\": \"text\", \"hovertext\": [\"joint 0: 0.0\", \"joint 1: 335.0\", \"joint 2: 351.0\", \"joint 3: 337.0\", \"joint 4: 297.0\", \"joint 5: 358.0\", \"joint 6: 339.0\", \"joint 7: 0.0\"], \"line\": {\"color\": \"darkblue\", \"width\": 10}, \"marker\": {\"color\": [\"black\", \"orange\", \"yellow\", \"pink\", \"blue\", \"goldenrod\", \"green\", \"red\"], \"size\": 5.0}, \"name\": \"conf 9\", \"opacity\": 1, \"showlegend\": false, \"type\": \"scatter3d\", \"x\": [0.0, 0.0, 0.0, 0.03, 0.03, 0.3, 0.3, 0.4], \"y\": [0.0, 0.0, 0.0, 0.06, 0.06, 0.32, 0.32, 0.4], \"z\": [0.0, 0.36, 0.36, 0.7749803808834018, 0.7749803808834018, 0.9041595750627598, 0.9041595750627598, 0.9005725832323271]}],\n",
              "                        {\"colorscale\": {\"diverging\": [[0.0, \"rgb(3, 35, 51)\"], [0.09090909090909091, \"rgb(13, 48, 100)\"], [0.18181818181818182, \"rgb(53, 50, 155)\"], [0.2727272727272727, \"rgb(93, 62, 153)\"], [0.36363636363636365, \"rgb(126, 77, 143)\"], [0.45454545454545453, \"rgb(158, 89, 135)\"], [0.5454545454545454, \"rgb(193, 100, 121)\"], [0.6363636363636364, \"rgb(225, 113, 97)\"], [0.7272727272727273, \"rgb(246, 139, 69)\"], [0.8181818181818182, \"rgb(251, 173, 60)\"], [0.9090909090909091, \"rgb(246, 211, 70)\"], [1.0, \"rgb(231, 250, 90)\"]]}, \"height\": 700, \"scene\": {\"aspectratio\": {\"x\": 1.25, \"y\": 1.25, \"z\": 1}, \"camera\": {\"eye\": {\"x\": -1.25, \"y\": -1.25, \"z\": 2}}, \"xaxis\": {\"nticks\": 8, \"range\": [-0.09999999999999998, 0.9], \"title\": {\"text\": \"Robot x-axis\"}}, \"yaxis\": {\"nticks\": 8, \"range\": [-0.7, 0.9], \"title\": {\"text\": \"Robot y-axis\"}}, \"zaxis\": {\"nticks\": 8, \"range\": [-0.05, 1.3], \"title\": {\"text\": \"Robot z-axis\"}}}, \"template\": {\"data\": {\"bar\": [{\"error_x\": {\"color\": \"#2a3f5f\"}, \"error_y\": {\"color\": \"#2a3f5f\"}, \"marker\": {\"line\": {\"color\": \"#E5ECF6\", \"width\": 0.5}}, \"type\": \"bar\"}], \"barpolar\": [{\"marker\": {\"line\": {\"color\": \"#E5ECF6\", \"width\": 0.5}}, \"type\": \"barpolar\"}], \"carpet\": [{\"aaxis\": {\"endlinecolor\": \"#2a3f5f\", \"gridcolor\": \"white\", \"linecolor\": \"white\", \"minorgridcolor\": \"white\", \"startlinecolor\": \"#2a3f5f\"}, \"baxis\": {\"endlinecolor\": \"#2a3f5f\", \"gridcolor\": \"white\", \"linecolor\": \"white\", \"minorgridcolor\": \"white\", \"startlinecolor\": \"#2a3f5f\"}, \"type\": \"carpet\"}], \"choropleth\": [{\"colorbar\": {\"outlinewidth\": 0, \"ticks\": \"\"}, \"type\": \"choropleth\"}], \"contour\": [{\"colorbar\": {\"outlinewidth\": 0, \"ticks\": \"\"}, \"colorscale\": [[0.0, \"#0d0887\"], [0.1111111111111111, \"#46039f\"], [0.2222222222222222, \"#7201a8\"], [0.3333333333333333, \"#9c179e\"], [0.4444444444444444, \"#bd3786\"], [0.5555555555555556, \"#d8576b\"], [0.6666666666666666, \"#ed7953\"], [0.7777777777777778, \"#fb9f3a\"], [0.8888888888888888, \"#fdca26\"], [1.0, \"#f0f921\"]], \"type\": \"contour\"}], \"contourcarpet\": [{\"colorbar\": {\"outlinewidth\": 0, \"ticks\": \"\"}, \"type\": \"contourcarpet\"}], \"heatmap\": [{\"colorbar\": {\"outlinewidth\": 0, \"ticks\": \"\"}, \"colorscale\": [[0.0, \"#0d0887\"], [0.1111111111111111, \"#46039f\"], [0.2222222222222222, \"#7201a8\"], [0.3333333333333333, \"#9c179e\"], [0.4444444444444444, \"#bd3786\"], [0.5555555555555556, \"#d8576b\"], [0.6666666666666666, \"#ed7953\"], [0.7777777777777778, \"#fb9f3a\"], [0.8888888888888888, \"#fdca26\"], [1.0, \"#f0f921\"]], \"type\": \"heatmap\"}], \"heatmapgl\": [{\"colorbar\": {\"outlinewidth\": 0, \"ticks\": \"\"}, \"colorscale\": [[0.0, \"#0d0887\"], [0.1111111111111111, \"#46039f\"], [0.2222222222222222, \"#7201a8\"], [0.3333333333333333, \"#9c179e\"], [0.4444444444444444, \"#bd3786\"], [0.5555555555555556, \"#d8576b\"], [0.6666666666666666, \"#ed7953\"], [0.7777777777777778, \"#fb9f3a\"], [0.8888888888888888, \"#fdca26\"], [1.0, \"#f0f921\"]], \"type\": \"heatmapgl\"}], \"histogram\": [{\"marker\": {\"colorbar\": {\"outlinewidth\": 0, \"ticks\": \"\"}}, \"type\": \"histogram\"}], \"histogram2d\": [{\"colorbar\": {\"outlinewidth\": 0, \"ticks\": \"\"}, \"colorscale\": [[0.0, \"#0d0887\"], [0.1111111111111111, \"#46039f\"], [0.2222222222222222, \"#7201a8\"], [0.3333333333333333, \"#9c179e\"], [0.4444444444444444, \"#bd3786\"], [0.5555555555555556, \"#d8576b\"], [0.6666666666666666, \"#ed7953\"], [0.7777777777777778, \"#fb9f3a\"], [0.8888888888888888, \"#fdca26\"], [1.0, \"#f0f921\"]], \"type\": \"histogram2d\"}], \"histogram2dcontour\": [{\"colorbar\": {\"outlinewidth\": 0, \"ticks\": \"\"}, \"colorscale\": [[0.0, \"#0d0887\"], [0.1111111111111111, \"#46039f\"], [0.2222222222222222, \"#7201a8\"], [0.3333333333333333, \"#9c179e\"], [0.4444444444444444, \"#bd3786\"], [0.5555555555555556, \"#d8576b\"], [0.6666666666666666, \"#ed7953\"], [0.7777777777777778, \"#fb9f3a\"], [0.8888888888888888, \"#fdca26\"], [1.0, \"#f0f921\"]], \"type\": \"histogram2dcontour\"}], \"mesh3d\": [{\"colorbar\": {\"outlinewidth\": 0, \"ticks\": \"\"}, \"type\": \"mesh3d\"}], \"parcoords\": [{\"line\": {\"colorbar\": {\"outlinewidth\": 0, \"ticks\": \"\"}}, \"type\": \"parcoords\"}], \"pie\": [{\"automargin\": true, \"type\": \"pie\"}], \"scatter\": [{\"marker\": {\"colorbar\": {\"outlinewidth\": 0, \"ticks\": \"\"}}, \"type\": \"scatter\"}], \"scatter3d\": [{\"line\": {\"colorbar\": {\"outlinewidth\": 0, \"ticks\": \"\"}}, \"marker\": {\"colorbar\": {\"outlinewidth\": 0, \"ticks\": \"\"}}, \"type\": \"scatter3d\"}], \"scattercarpet\": [{\"marker\": {\"colorbar\": {\"outlinewidth\": 0, \"ticks\": \"\"}}, \"type\": \"scattercarpet\"}], \"scattergeo\": [{\"marker\": {\"colorbar\": {\"outlinewidth\": 0, \"ticks\": \"\"}}, \"type\": \"scattergeo\"}], \"scattergl\": [{\"marker\": {\"colorbar\": {\"outlinewidth\": 0, \"ticks\": \"\"}}, \"type\": \"scattergl\"}], \"scattermapbox\": [{\"marker\": {\"colorbar\": {\"outlinewidth\": 0, \"ticks\": \"\"}}, \"type\": \"scattermapbox\"}], \"scatterpolar\": [{\"marker\": {\"colorbar\": {\"outlinewidth\": 0, \"ticks\": \"\"}}, \"type\": \"scatterpolar\"}], \"scatterpolargl\": [{\"marker\": {\"colorbar\": {\"outlinewidth\": 0, \"ticks\": \"\"}}, \"type\": \"scatterpolargl\"}], \"scatterternary\": [{\"marker\": {\"colorbar\": {\"outlinewidth\": 0, \"ticks\": \"\"}}, \"type\": \"scatterternary\"}], \"surface\": [{\"colorbar\": {\"outlinewidth\": 0, \"ticks\": \"\"}, \"colorscale\": [[0.0, \"#0d0887\"], [0.1111111111111111, \"#46039f\"], [0.2222222222222222, \"#7201a8\"], [0.3333333333333333, \"#9c179e\"], [0.4444444444444444, \"#bd3786\"], [0.5555555555555556, \"#d8576b\"], [0.6666666666666666, \"#ed7953\"], [0.7777777777777778, \"#fb9f3a\"], [0.8888888888888888, \"#fdca26\"], [1.0, \"#f0f921\"]], \"type\": \"surface\"}], \"table\": [{\"cells\": {\"fill\": {\"color\": \"#EBF0F8\"}, \"line\": {\"color\": \"white\"}}, \"header\": {\"fill\": {\"color\": \"#C8D4E3\"}, \"line\": {\"color\": \"white\"}}, \"type\": \"table\"}]}, \"layout\": {\"annotationdefaults\": {\"arrowcolor\": \"#2a3f5f\", \"arrowhead\": 0, \"arrowwidth\": 1}, \"coloraxis\": {\"colorbar\": {\"outlinewidth\": 0, \"ticks\": \"\"}}, \"colorscale\": {\"diverging\": [[0, \"#8e0152\"], [0.1, \"#c51b7d\"], [0.2, \"#de77ae\"], [0.3, \"#f1b6da\"], [0.4, \"#fde0ef\"], [0.5, \"#f7f7f7\"], [0.6, \"#e6f5d0\"], [0.7, \"#b8e186\"], [0.8, \"#7fbc41\"], [0.9, \"#4d9221\"], [1, \"#276419\"]], \"sequential\": [[0.0, \"#0d0887\"], [0.1111111111111111, \"#46039f\"], [0.2222222222222222, \"#7201a8\"], [0.3333333333333333, \"#9c179e\"], [0.4444444444444444, \"#bd3786\"], [0.5555555555555556, \"#d8576b\"], [0.6666666666666666, \"#ed7953\"], [0.7777777777777778, \"#fb9f3a\"], [0.8888888888888888, \"#fdca26\"], [1.0, \"#f0f921\"]], \"sequentialminus\": [[0.0, \"#0d0887\"], [0.1111111111111111, \"#46039f\"], [0.2222222222222222, \"#7201a8\"], [0.3333333333333333, \"#9c179e\"], [0.4444444444444444, \"#bd3786\"], [0.5555555555555556, \"#d8576b\"], [0.6666666666666666, \"#ed7953\"], [0.7777777777777778, \"#fb9f3a\"], [0.8888888888888888, \"#fdca26\"], [1.0, \"#f0f921\"]]}, \"colorway\": [\"#636efa\", \"#EF553B\", \"#00cc96\", \"#ab63fa\", \"#FFA15A\", \"#19d3f3\", \"#FF6692\", \"#B6E880\", \"#FF97FF\", \"#FECB52\"], \"font\": {\"color\": \"#2a3f5f\"}, \"geo\": {\"bgcolor\": \"white\", \"lakecolor\": \"white\", \"landcolor\": \"#E5ECF6\", \"showlakes\": true, \"showland\": true, \"subunitcolor\": \"white\"}, \"hoverlabel\": {\"align\": \"left\"}, \"hovermode\": \"closest\", \"mapbox\": {\"style\": \"light\"}, \"paper_bgcolor\": \"white\", \"plot_bgcolor\": \"#E5ECF6\", \"polar\": {\"angularaxis\": {\"gridcolor\": \"white\", \"linecolor\": \"white\", \"ticks\": \"\"}, \"bgcolor\": \"#E5ECF6\", \"radialaxis\": {\"gridcolor\": \"white\", \"linecolor\": \"white\", \"ticks\": \"\"}}, \"scene\": {\"xaxis\": {\"backgroundcolor\": \"#E5ECF6\", \"gridcolor\": \"white\", \"gridwidth\": 2, \"linecolor\": \"white\", \"showbackground\": true, \"ticks\": \"\", \"zerolinecolor\": \"white\"}, \"yaxis\": {\"backgroundcolor\": \"#E5ECF6\", \"gridcolor\": \"white\", \"gridwidth\": 2, \"linecolor\": \"white\", \"showbackground\": true, \"ticks\": \"\", \"zerolinecolor\": \"white\"}, \"zaxis\": {\"backgroundcolor\": \"#E5ECF6\", \"gridcolor\": \"white\", \"gridwidth\": 2, \"linecolor\": \"white\", \"showbackground\": true, \"ticks\": \"\", \"zerolinecolor\": \"white\"}}, \"shapedefaults\": {\"line\": {\"color\": \"#2a3f5f\"}}, \"ternary\": {\"aaxis\": {\"gridcolor\": \"white\", \"linecolor\": \"white\", \"ticks\": \"\"}, \"baxis\": {\"gridcolor\": \"white\", \"linecolor\": \"white\", \"ticks\": \"\"}, \"bgcolor\": \"#E5ECF6\", \"caxis\": {\"gridcolor\": \"white\", \"linecolor\": \"white\", \"ticks\": \"\"}}, \"title\": {\"x\": 0.05}, \"xaxis\": {\"automargin\": true, \"gridcolor\": \"white\", \"linecolor\": \"white\", \"ticks\": \"\", \"title\": {\"standoff\": 15}, \"zerolinecolor\": \"white\", \"zerolinewidth\": 2}, \"yaxis\": {\"automargin\": true, \"gridcolor\": \"white\", \"linecolor\": \"white\", \"ticks\": \"\", \"title\": {\"standoff\": 15}, \"zerolinecolor\": \"white\", \"zerolinewidth\": 2}}}, \"title\": {\"text\": \"Robot plot in different configurations\"}, \"width\": 1000},\n",
              "                        {\"responsive\": true}\n",
              "                    ).then(function(){\n",
              "                            \n",
              "var gd = document.getElementById('a28393a0-281f-47ae-b483-09704fc1879d');\n",
              "var x = new MutationObserver(function (mutations, observer) {{\n",
              "        var display = window.getComputedStyle(gd).display;\n",
              "        if (!display || display === 'none') {{\n",
              "            console.log([gd, 'removed!']);\n",
              "            Plotly.purge(gd);\n",
              "            observer.disconnect();\n",
              "        }}\n",
              "}});\n",
              "\n",
              "// Listen for the removal of the full notebook cells\n",
              "var notebookContainer = gd.closest('#notebook-container');\n",
              "if (notebookContainer) {{\n",
              "    x.observe(notebookContainer, {childList: true});\n",
              "}}\n",
              "\n",
              "// Listen for the clearing of the current output cell\n",
              "var outputEl = gd.closest('.output');\n",
              "if (outputEl) {{\n",
              "    x.observe(outputEl, {childList: true});\n",
              "}}\n",
              "\n",
              "                        })\n",
              "                };\n",
              "                \n",
              "            </script>\n",
              "        </div>\n",
              "</body>\n",
              "</html>"
            ]
          },
          "metadata": {
            "tags": []
          }
        }
      ]
    },
    {
      "cell_type": "markdown",
      "metadata": {
        "id": "H9NSUsTxeKnj"
      },
      "source": [
        "##### <i>Null space Method</i> "
      ]
    },
    {
      "cell_type": "code",
      "metadata": {
        "id": "5-YY4tu9ePyb"
      },
      "source": [
        "def null_space_method(q0, p_goal, weights=[1,3,1,2,9,4,5], time_step=0.01, max_iteration=3000, accuracy=0.01):\r\n",
        "\r\n",
        "  assert np.linalg.norm(p_goal[:3]) <= 0.85*np.sum([a1, a2, a3, a4]), \"Robot Length constraint violated\"\r\n",
        "\r\n",
        "  q_n0 = q0\r\n",
        "  p = FK(q_n0)[:3,-1]\r\n",
        "  t_dot = p_goal[:3] - p\r\n",
        "  H1 = [0, 0, 0, 0, 0, 0, 0]\r\n",
        "  e = np.linalg.norm(t_dot)\r\n",
        "\r\n",
        "  Tt = np.block([ np.eye(3), np.zeros((3,3)) ])\r\n",
        "  q_n1 = q_n0\r\n",
        "  δt = time_step\r\n",
        "  q_dot_0 =  [ 4, 9, 1, 7, 9, 5, 1] # [ 0.4, 0.9, 0.1, 0.7, 0.9, 0.5, 0.22]\r\n",
        "  i=0\r\n",
        "\r\n",
        "  start_time = time.time()\r\n",
        "  while True:\r\n",
        "    if (e < accuracy): \r\n",
        "      break\r\n",
        "    \r\n",
        "    fk = FK(q_n0)\r\n",
        "\r\n",
        "    rx, ry, rz = euler_angles(fk[:3,:3])\r\n",
        "\r\n",
        "    p = np.hstack([fk[:3,-1], [rx, ry, rz] ]) # current position and orientation\r\n",
        "\r\n",
        "    t_dot = p_goal[:3] - p[:3]\r\n",
        "\r\n",
        "    e = np.linalg.norm(t_dot)\r\n",
        "\r\n",
        "    w_inv = np.linalg.inv(np.diag(weights)) \r\n",
        "\r\n",
        "    Jt = np.dot(Tt, jacobian(q_n0))\r\n",
        "\r\n",
        "    j_hash = w_inv @ Jt.T @ np.linalg.inv( Jt @ w_inv @ Jt.T )\r\n",
        "\r\n",
        "\r\n",
        "    q_dot = (j_hash @ t_dot) + (np.eye(7) - (j_hash @ Jt))@q_dot_0\r\n",
        "\r\n",
        "    q_n1 = q_n0 + (δt * q_dot)  \r\n",
        "\r\n",
        "    # H2 = np.sqrt(np.linalg.det(Jt@Jt.T))\r\n",
        "\r\n",
        "    # dH = H2 - H1\r\n",
        "\r\n",
        "    # dq = q_n1 - q_n0\r\n",
        "\r\n",
        "    # grad_Hq = np.divide(dH, dq)\r\n",
        "\r\n",
        "    # H2 = []\r\n",
        "    # for i,q in enumerate(q_n1):\r\n",
        "    #   q_i = q_n1          # np.zeros(7)\r\n",
        "    #   q_i[i]=q-q_n0[i]\r\n",
        "    #   Jt_i = np.dot(Tt, jacobian(q_i))\r\n",
        "\r\n",
        "    #   H2.append(np.sqrt(np.linalg.det(Jt_i@Jt_i.T)))\r\n",
        "\r\n",
        "    # grad_Hq = np.asarray(H2) - np.asarray(H1)\r\n",
        "\r\n",
        "    # q_dot_0 = grad_Hq.T\r\n",
        "\r\n",
        "    q_n0 = q_n1\r\n",
        "    # H1 = H2\r\n",
        "\r\n",
        "    i+=1\r\n",
        "    if (i > max_iteration):\r\n",
        "      print(\"No convergence\")\r\n",
        "      break\r\n",
        "    \r\n",
        "  end_time = time.time()\r\n",
        "  print(f\"to {np.round(p_goal,2)} :: time taken {np.round(end_time - start_time, 4)} seconds\\n\")\r\n",
        "\r\n",
        "  return np.mod(q_n1, 2*np.pi)"
      ],
      "execution_count": 72,
      "outputs": []
    },
    {
      "cell_type": "code",
      "metadata": {
        "colab": {
          "base_uri": "https://localhost:8080/",
          "height": 1000
        },
        "id": "Z7bD818ae_YQ",
        "outputId": "4ed59320-00ce-4a9d-b96b-2b23add33fe2"
      },
      "source": [
        "get_cnfs(method_fun=null_space_method, q0=np.deg2rad([10,-10,0,20,0,-60,0]))"
      ],
      "execution_count": 73,
      "outputs": [
        {
          "output_type": "stream",
          "text": [
            "to [ 0.4 -0.2  0.9] :: time taken 5.0626 seconds\n",
            "\n",
            "to [ 0.4  -0.13  0.9 ] :: time taken 5.4775 seconds\n",
            "\n",
            "to [ 0.4  -0.07  0.9 ] :: time taken 4.6272 seconds\n",
            "\n",
            "to [0.4 0.  0.9] :: time taken 4.5536 seconds\n",
            "\n",
            "to [0.4  0.07 0.9 ] :: time taken 4.6987 seconds\n",
            "\n",
            "to [0.4  0.13 0.9 ] :: time taken 4.7404 seconds\n",
            "\n",
            "to [0.4 0.2 0.9] :: time taken 4.4077 seconds\n",
            "\n",
            "to [0.4  0.27 0.9 ] :: time taken 4.8093 seconds\n",
            "\n",
            "to [0.4  0.33 0.9 ] :: time taken 4.5839 seconds\n",
            "\n",
            "to [0.4 0.4 0.9] :: time taken 4.8765 seconds\n",
            "\n",
            "\n",
            "47.9 seconds : Total time using null_space_method \n",
            "\n"
          ],
          "name": "stdout"
        },
        {
          "output_type": "display_data",
          "data": {
            "text/html": [
              "<html>\n",
              "<head><meta charset=\"utf-8\" /></head>\n",
              "<body>\n",
              "    <div>\n",
              "            <script src=\"https://cdnjs.cloudflare.com/ajax/libs/mathjax/2.7.5/MathJax.js?config=TeX-AMS-MML_SVG\"></script><script type=\"text/javascript\">if (window.MathJax) {MathJax.Hub.Config({SVG: {font: \"STIX-Web\"}});}</script>\n",
              "                <script type=\"text/javascript\">window.PlotlyConfig = {MathJaxConfig: 'local'};</script>\n",
              "        <script src=\"https://cdn.plot.ly/plotly-latest.min.js\"></script>    \n",
              "            <div id=\"3a5d8a90-0365-4aee-b359-1071d859c0f3\" class=\"plotly-graph-div\" style=\"height:700px; width:1000px;\"></div>\n",
              "            <script type=\"text/javascript\">\n",
              "                \n",
              "                    window.PLOTLYENV=window.PLOTLYENV || {};\n",
              "                    \n",
              "                if (document.getElementById(\"3a5d8a90-0365-4aee-b359-1071d859c0f3\")) {\n",
              "                    Plotly.newPlot(\n",
              "                        '3a5d8a90-0365-4aee-b359-1071d859c0f3',\n",
              "                        [{\"hoverinfo\": \"none\", \"marker\": {\"size\": 0.1}, \"name\": \"desired trajectory\", \"type\": \"scatter3d\", \"x\": [0.4, 0.4, 0.4, 0.4, 0.4, 0.4, 0.4, 0.4, 0.4, 0.4], \"y\": [-0.2, -0.13333333333333333, -0.06666666666666665, 2.7755575615628914e-17, 0.06666666666666671, 0.13333333333333336, 0.20000000000000007, 0.2666666666666668, 0.3333333333333334, 0.4], \"z\": [0.9, 0.9, 0.9, 0.9, 0.9, 0.9, 0.9, 0.9, 0.9, 0.9]}, {\"hoverinfo\": \"text\", \"hovertext\": [\"joint 0: 0.0\", \"joint 1: 76.0\", \"joint 2: 61.0\", \"joint 3: 205.0\", \"joint 4: 35.0\", \"joint 5: 345.0\", \"joint 6: 117.0\", \"joint 7: 243.0\"], \"line\": {\"color\": \"darkblue\", \"width\": 10}, \"marker\": {\"color\": [\"black\", \"orange\", \"yellow\", \"pink\", \"blue\", \"goldenrod\", \"green\", \"red\"], \"size\": 5.0}, \"name\": \"conf 0\", \"opacity\": 1, \"showlegend\": false, \"type\": \"scatter3d\", \"x\": [0.0, 0.0, 0.0, 0.36, 0.36, 0.51, 0.51, 0.39], \"y\": [0.0, 0.0, 0.0, -0.09, -0.09, -0.23, -0.23, -0.2], \"z\": [0.0, 0.36, 0.36, 0.5622708576913009, 0.5622708576913009, 0.9023230538938545, 0.9023230538938545, 0.9051587831010631]}, {\"hoverinfo\": \"text\", \"hovertext\": [\"joint 0: 0.0\", \"joint 1: 91.0\", \"joint 2: 80.0\", \"joint 3: 198.0\", \"joint 4: 72.0\", \"joint 5: 172.0\", \"joint 6: 311.0\", \"joint 7: 263.0\"], \"line\": {\"color\": \"darkblue\", \"width\": 10}, \"marker\": {\"color\": [\"black\", \"orange\", \"yellow\", \"pink\", \"blue\", \"goldenrod\", \"green\", \"red\"], \"size\": 5.0}, \"name\": \"conf 1\", \"opacity\": 0.3, \"showlegend\": false, \"type\": \"scatter3d\", \"x\": [0.0, 0.0, 0.0, 0.41, 0.41, 0.47, 0.47, 0.39], \"y\": [0.0, 0.0, 0.0, 0.01, 0.01, -0.11, -0.11, -0.13], \"z\": [0.0, 0.36, 0.36, 0.43346325581328976, 0.43346325581328976, 0.8112757978232573, 0.8112757978232573, 0.9054564967738872]}, {\"hoverinfo\": \"text\", \"hovertext\": [\"joint 0: 0.0\", \"joint 1: 93.0\", \"joint 2: 59.0\", \"joint 3: 204.0\", \"joint 4: 39.0\", \"joint 5: 343.0\", \"joint 6: 125.0\", \"joint 7: 242.0\"], \"line\": {\"color\": \"darkblue\", \"width\": 10}, \"marker\": {\"color\": [\"black\", \"orange\", \"yellow\", \"pink\", \"blue\", \"goldenrod\", \"green\", \"red\"], \"size\": 5.0}, \"name\": \"conf 2\", \"opacity\": 0.3, \"showlegend\": false, \"type\": \"scatter3d\", \"x\": [0.0, 0.0, 0.0, 0.36, 0.36, 0.51, 0.51, 0.39], \"y\": [0.0, 0.0, 0.0, 0.02, 0.02, -0.07, -0.07, -0.07], \"z\": [0.0, 0.36, 0.36, 0.573197280949376, 0.573197280949376, 0.9302924237497501, 0.9302924237497501, 0.9042990163276486]}, {\"hoverinfo\": \"text\", \"hovertext\": [\"joint 0: 0.0\", \"joint 1: 102.0\", \"joint 2: 59.0\", \"joint 3: 205.0\", \"joint 4: 40.0\", \"joint 5: 337.0\", \"joint 6: 128.0\", \"joint 7: 241.0\"], \"line\": {\"color\": \"darkblue\", \"width\": 10}, \"marker\": {\"color\": [\"black\", \"orange\", \"yellow\", \"pink\", \"blue\", \"goldenrod\", \"green\", \"red\"], \"size\": 5.0}, \"name\": \"conf 3\", \"opacity\": 0.3, \"showlegend\": false, \"type\": \"scatter3d\", \"x\": [0.0, 0.0, 0.0, 0.35, 0.35, 0.51, 0.51, 0.39], \"y\": [0.0, 0.0, 0.0, 0.08, 0.08, -0.0, -0.0, 0.0], \"z\": [0.0, 0.36, 0.36, 0.5788570951417749, 0.5788570951417749, 0.9357932989710496, 0.9357932989710496, 0.9045270359973934]}, {\"hoverinfo\": \"text\", \"hovertext\": [\"joint 0: 0.0\", \"joint 1: 112.0\", \"joint 2: 64.0\", \"joint 3: 206.0\", \"joint 4: 47.0\", \"joint 5: 328.0\", \"joint 6: 113.0\", \"joint 7: 240.0\"], \"line\": {\"color\": \"darkblue\", \"width\": 10}, \"marker\": {\"color\": [\"black\", \"orange\", \"yellow\", \"pink\", \"blue\", \"goldenrod\", \"green\", \"red\"], \"size\": 5.0}, \"name\": \"conf 4\", \"opacity\": 0.3, \"showlegend\": false, \"type\": \"scatter3d\", \"x\": [0.0, 0.0, 0.0, 0.35, 0.35, 0.52, 0.52, 0.39], \"y\": [0.0, 0.0, 0.0, 0.14, 0.14, 0.07, 0.07, 0.07], \"z\": [0.0, 0.36, 0.36, 0.5441752374842119, 0.5441752374842119, 0.9009074989219581, 0.9009074989219581, 0.9033547270942075]}, {\"hoverinfo\": \"text\", \"hovertext\": [\"joint 0: 0.0\", \"joint 1: 119.0\", \"joint 2: 56.0\", \"joint 3: 209.0\", \"joint 4: 32.0\", \"joint 5: 334.0\", \"joint 6: 134.0\", \"joint 7: 241.0\"], \"line\": {\"color\": \"darkblue\", \"width\": 10}, \"marker\": {\"color\": [\"black\", \"orange\", \"yellow\", \"pink\", \"blue\", \"goldenrod\", \"green\", \"red\"], \"size\": 5.0}, \"name\": \"conf 5\", \"opacity\": 0.3, \"showlegend\": false, \"type\": \"scatter3d\", \"x\": [0.0, 0.0, 0.0, 0.3, 0.3, 0.51, 0.51, 0.39], \"y\": [0.0, 0.0, 0.0, 0.17, 0.17, 0.17, 0.17, 0.13], \"z\": [0.0, 0.36, 0.36, 0.595846133888998, 0.595846133888998, 0.9393228396914857, 0.9393228396914857, 0.9055399787952163]}, {\"hoverinfo\": \"text\", \"hovertext\": [\"joint 0: 0.0\", \"joint 1: 128.0\", \"joint 2: 62.0\", \"joint 3: 208.0\", \"joint 4: 37.0\", \"joint 5: 329.0\", \"joint 6: 115.0\", \"joint 7: 241.0\"], \"line\": {\"color\": \"darkblue\", \"width\": 10}, \"marker\": {\"color\": [\"black\", \"orange\", \"yellow\", \"pink\", \"blue\", \"goldenrod\", \"green\", \"red\"], \"size\": 5.0}, \"name\": \"conf 6\", \"opacity\": 0.3, \"showlegend\": false, \"type\": \"scatter3d\", \"x\": [0.0, 0.0, 0.0, 0.29, 0.29, 0.51, 0.51, 0.39], \"y\": [0.0, 0.0, 0.0, 0.23, 0.23, 0.25, 0.25, 0.2], \"z\": [0.0, 0.36, 0.36, 0.5564056988830205, 0.5564056988830205, 0.8935298351017928, 0.8935298351017928, 0.9055614999748687]}, {\"hoverinfo\": \"text\", \"hovertext\": [\"joint 0: 0.0\", \"joint 1: 135.0\", \"joint 2: 65.0\", \"joint 3: 208.0\", \"joint 4: 37.0\", \"joint 5: 333.0\", \"joint 6: 103.0\", \"joint 7: 242.0\"], \"line\": {\"color\": \"darkblue\", \"width\": 10}, \"marker\": {\"color\": [\"black\", \"orange\", \"yellow\", \"pink\", \"blue\", \"goldenrod\", \"green\", \"red\"], \"size\": 5.0}, \"name\": \"conf 7\", \"opacity\": 0.3, \"showlegend\": false, \"type\": \"scatter3d\", \"x\": [0.0, 0.0, 0.0, 0.27, 0.27, 0.49, 0.49, 0.39], \"y\": [0.0, 0.0, 0.0, 0.27, 0.27, 0.33, 0.33, 0.26], \"z\": [0.0, 0.36, 0.36, 0.5348976123883115, 0.5348976123883115, 0.8630551276173538, 0.8630551276173538, 0.9054675882846623]}, {\"hoverinfo\": \"text\", \"hovertext\": [\"joint 0: 0.0\", \"joint 1: 141.0\", \"joint 2: 68.0\", \"joint 3: 208.0\", \"joint 4: 36.0\", \"joint 5: 332.0\", \"joint 6: 92.0\", \"joint 7: 242.0\"], \"line\": {\"color\": \"darkblue\", \"width\": 10}, \"marker\": {\"color\": [\"black\", \"orange\", \"yellow\", \"pink\", \"blue\", \"goldenrod\", \"green\", \"red\"], \"size\": 5.0}, \"name\": \"conf 8\", \"opacity\": 0.3, \"showlegend\": false, \"type\": \"scatter3d\", \"x\": [0.0, 0.0, 0.0, 0.25, 0.25, 0.47, 0.47, 0.39], \"y\": [0.0, 0.0, 0.0, 0.3, 0.3, 0.4, 0.4, 0.33], \"z\": [0.0, 0.36, 0.36, 0.5189573694022289, 0.5189573694022289, 0.8352508651195532, 0.8352508651195532, 0.90550146425193]}, {\"hoverinfo\": \"text\", \"hovertext\": [\"joint 0: 0.0\", \"joint 1: 146.0\", \"joint 2: 69.0\", \"joint 3: 207.0\", \"joint 4: 34.0\", \"joint 5: 337.0\", \"joint 6: 81.0\", \"joint 7: 242.0\"], \"line\": {\"color\": \"darkblue\", \"width\": 10}, \"marker\": {\"color\": [\"black\", \"orange\", \"yellow\", \"pink\", \"blue\", \"goldenrod\", \"green\", \"red\"], \"size\": 5.0}, \"name\": \"conf 9\", \"opacity\": 1, \"showlegend\": false, \"type\": \"scatter3d\", \"x\": [0.0, 0.0, 0.0, 0.22, 0.22, 0.44, 0.44, 0.39], \"y\": [0.0, 0.0, 0.0, 0.32, 0.32, 0.47, 0.47, 0.39], \"z\": [0.0, 0.36, 0.36, 0.50960832592011, 0.50960832592011, 0.8126447142454656, 0.8126447142454656, 0.9052946203345209]}],\n",
              "                        {\"colorscale\": {\"diverging\": [[0.0, \"rgb(3, 35, 51)\"], [0.09090909090909091, \"rgb(13, 48, 100)\"], [0.18181818181818182, \"rgb(53, 50, 155)\"], [0.2727272727272727, \"rgb(93, 62, 153)\"], [0.36363636363636365, \"rgb(126, 77, 143)\"], [0.45454545454545453, \"rgb(158, 89, 135)\"], [0.5454545454545454, \"rgb(193, 100, 121)\"], [0.6363636363636364, \"rgb(225, 113, 97)\"], [0.7272727272727273, \"rgb(246, 139, 69)\"], [0.8181818181818182, \"rgb(251, 173, 60)\"], [0.9090909090909091, \"rgb(246, 211, 70)\"], [1.0, \"rgb(231, 250, 90)\"]]}, \"height\": 700, \"scene\": {\"aspectratio\": {\"x\": 1.25, \"y\": 1.25, \"z\": 1}, \"camera\": {\"eye\": {\"x\": -1.25, \"y\": -1.25, \"z\": 2}}, \"xaxis\": {\"nticks\": 8, \"range\": [-0.09999999999999998, 0.9], \"title\": {\"text\": \"Robot x-axis\"}}, \"yaxis\": {\"nticks\": 8, \"range\": [-0.7, 0.9], \"title\": {\"text\": \"Robot y-axis\"}}, \"zaxis\": {\"nticks\": 8, \"range\": [-0.05, 1.3], \"title\": {\"text\": \"Robot z-axis\"}}}, \"template\": {\"data\": {\"bar\": [{\"error_x\": {\"color\": \"#2a3f5f\"}, \"error_y\": {\"color\": \"#2a3f5f\"}, \"marker\": {\"line\": {\"color\": \"#E5ECF6\", \"width\": 0.5}}, \"type\": \"bar\"}], \"barpolar\": [{\"marker\": {\"line\": {\"color\": \"#E5ECF6\", \"width\": 0.5}}, \"type\": \"barpolar\"}], \"carpet\": [{\"aaxis\": {\"endlinecolor\": \"#2a3f5f\", \"gridcolor\": \"white\", \"linecolor\": \"white\", \"minorgridcolor\": \"white\", \"startlinecolor\": \"#2a3f5f\"}, \"baxis\": {\"endlinecolor\": \"#2a3f5f\", \"gridcolor\": \"white\", \"linecolor\": \"white\", \"minorgridcolor\": \"white\", \"startlinecolor\": \"#2a3f5f\"}, \"type\": \"carpet\"}], \"choropleth\": [{\"colorbar\": {\"outlinewidth\": 0, \"ticks\": \"\"}, \"type\": \"choropleth\"}], \"contour\": [{\"colorbar\": {\"outlinewidth\": 0, \"ticks\": \"\"}, \"colorscale\": [[0.0, \"#0d0887\"], [0.1111111111111111, \"#46039f\"], [0.2222222222222222, \"#7201a8\"], [0.3333333333333333, \"#9c179e\"], [0.4444444444444444, \"#bd3786\"], [0.5555555555555556, \"#d8576b\"], [0.6666666666666666, \"#ed7953\"], [0.7777777777777778, \"#fb9f3a\"], [0.8888888888888888, \"#fdca26\"], [1.0, \"#f0f921\"]], \"type\": \"contour\"}], \"contourcarpet\": [{\"colorbar\": {\"outlinewidth\": 0, \"ticks\": \"\"}, \"type\": \"contourcarpet\"}], \"heatmap\": [{\"colorbar\": {\"outlinewidth\": 0, \"ticks\": \"\"}, \"colorscale\": [[0.0, \"#0d0887\"], [0.1111111111111111, \"#46039f\"], [0.2222222222222222, \"#7201a8\"], [0.3333333333333333, \"#9c179e\"], [0.4444444444444444, \"#bd3786\"], [0.5555555555555556, \"#d8576b\"], [0.6666666666666666, \"#ed7953\"], [0.7777777777777778, \"#fb9f3a\"], [0.8888888888888888, \"#fdca26\"], [1.0, \"#f0f921\"]], \"type\": \"heatmap\"}], \"heatmapgl\": [{\"colorbar\": {\"outlinewidth\": 0, \"ticks\": \"\"}, \"colorscale\": [[0.0, \"#0d0887\"], [0.1111111111111111, \"#46039f\"], [0.2222222222222222, \"#7201a8\"], [0.3333333333333333, \"#9c179e\"], [0.4444444444444444, \"#bd3786\"], [0.5555555555555556, \"#d8576b\"], [0.6666666666666666, \"#ed7953\"], [0.7777777777777778, \"#fb9f3a\"], [0.8888888888888888, \"#fdca26\"], [1.0, \"#f0f921\"]], \"type\": \"heatmapgl\"}], \"histogram\": [{\"marker\": {\"colorbar\": {\"outlinewidth\": 0, \"ticks\": \"\"}}, \"type\": \"histogram\"}], \"histogram2d\": [{\"colorbar\": {\"outlinewidth\": 0, \"ticks\": \"\"}, \"colorscale\": [[0.0, \"#0d0887\"], [0.1111111111111111, \"#46039f\"], [0.2222222222222222, \"#7201a8\"], [0.3333333333333333, \"#9c179e\"], [0.4444444444444444, \"#bd3786\"], [0.5555555555555556, \"#d8576b\"], [0.6666666666666666, \"#ed7953\"], [0.7777777777777778, \"#fb9f3a\"], [0.8888888888888888, \"#fdca26\"], [1.0, \"#f0f921\"]], \"type\": \"histogram2d\"}], \"histogram2dcontour\": [{\"colorbar\": {\"outlinewidth\": 0, \"ticks\": \"\"}, \"colorscale\": [[0.0, \"#0d0887\"], [0.1111111111111111, \"#46039f\"], [0.2222222222222222, \"#7201a8\"], [0.3333333333333333, \"#9c179e\"], [0.4444444444444444, \"#bd3786\"], [0.5555555555555556, \"#d8576b\"], [0.6666666666666666, \"#ed7953\"], [0.7777777777777778, \"#fb9f3a\"], [0.8888888888888888, \"#fdca26\"], [1.0, \"#f0f921\"]], \"type\": \"histogram2dcontour\"}], \"mesh3d\": [{\"colorbar\": {\"outlinewidth\": 0, \"ticks\": \"\"}, \"type\": \"mesh3d\"}], \"parcoords\": [{\"line\": {\"colorbar\": {\"outlinewidth\": 0, \"ticks\": \"\"}}, \"type\": \"parcoords\"}], \"pie\": [{\"automargin\": true, \"type\": \"pie\"}], \"scatter\": [{\"marker\": {\"colorbar\": {\"outlinewidth\": 0, \"ticks\": \"\"}}, \"type\": \"scatter\"}], \"scatter3d\": [{\"line\": {\"colorbar\": {\"outlinewidth\": 0, \"ticks\": \"\"}}, \"marker\": {\"colorbar\": {\"outlinewidth\": 0, \"ticks\": \"\"}}, \"type\": \"scatter3d\"}], \"scattercarpet\": [{\"marker\": {\"colorbar\": {\"outlinewidth\": 0, \"ticks\": \"\"}}, \"type\": \"scattercarpet\"}], \"scattergeo\": [{\"marker\": {\"colorbar\": {\"outlinewidth\": 0, \"ticks\": \"\"}}, \"type\": \"scattergeo\"}], \"scattergl\": [{\"marker\": {\"colorbar\": {\"outlinewidth\": 0, \"ticks\": \"\"}}, \"type\": \"scattergl\"}], \"scattermapbox\": [{\"marker\": {\"colorbar\": {\"outlinewidth\": 0, \"ticks\": \"\"}}, \"type\": \"scattermapbox\"}], \"scatterpolar\": [{\"marker\": {\"colorbar\": {\"outlinewidth\": 0, \"ticks\": \"\"}}, \"type\": \"scatterpolar\"}], \"scatterpolargl\": [{\"marker\": {\"colorbar\": {\"outlinewidth\": 0, \"ticks\": \"\"}}, \"type\": \"scatterpolargl\"}], \"scatterternary\": [{\"marker\": {\"colorbar\": {\"outlinewidth\": 0, \"ticks\": \"\"}}, \"type\": \"scatterternary\"}], \"surface\": [{\"colorbar\": {\"outlinewidth\": 0, \"ticks\": \"\"}, \"colorscale\": [[0.0, \"#0d0887\"], [0.1111111111111111, \"#46039f\"], [0.2222222222222222, \"#7201a8\"], [0.3333333333333333, \"#9c179e\"], [0.4444444444444444, \"#bd3786\"], [0.5555555555555556, \"#d8576b\"], [0.6666666666666666, \"#ed7953\"], [0.7777777777777778, \"#fb9f3a\"], [0.8888888888888888, \"#fdca26\"], [1.0, \"#f0f921\"]], \"type\": \"surface\"}], \"table\": [{\"cells\": {\"fill\": {\"color\": \"#EBF0F8\"}, \"line\": {\"color\": \"white\"}}, \"header\": {\"fill\": {\"color\": \"#C8D4E3\"}, \"line\": {\"color\": \"white\"}}, \"type\": \"table\"}]}, \"layout\": {\"annotationdefaults\": {\"arrowcolor\": \"#2a3f5f\", \"arrowhead\": 0, \"arrowwidth\": 1}, \"coloraxis\": {\"colorbar\": {\"outlinewidth\": 0, \"ticks\": \"\"}}, \"colorscale\": {\"diverging\": [[0, \"#8e0152\"], [0.1, \"#c51b7d\"], [0.2, \"#de77ae\"], [0.3, \"#f1b6da\"], [0.4, \"#fde0ef\"], [0.5, \"#f7f7f7\"], [0.6, \"#e6f5d0\"], [0.7, \"#b8e186\"], [0.8, \"#7fbc41\"], [0.9, \"#4d9221\"], [1, \"#276419\"]], \"sequential\": [[0.0, \"#0d0887\"], [0.1111111111111111, \"#46039f\"], [0.2222222222222222, \"#7201a8\"], [0.3333333333333333, \"#9c179e\"], [0.4444444444444444, \"#bd3786\"], [0.5555555555555556, \"#d8576b\"], [0.6666666666666666, \"#ed7953\"], [0.7777777777777778, \"#fb9f3a\"], [0.8888888888888888, \"#fdca26\"], [1.0, \"#f0f921\"]], \"sequentialminus\": [[0.0, \"#0d0887\"], [0.1111111111111111, \"#46039f\"], [0.2222222222222222, \"#7201a8\"], [0.3333333333333333, \"#9c179e\"], [0.4444444444444444, \"#bd3786\"], [0.5555555555555556, \"#d8576b\"], [0.6666666666666666, \"#ed7953\"], [0.7777777777777778, \"#fb9f3a\"], [0.8888888888888888, \"#fdca26\"], [1.0, \"#f0f921\"]]}, \"colorway\": [\"#636efa\", \"#EF553B\", \"#00cc96\", \"#ab63fa\", \"#FFA15A\", \"#19d3f3\", \"#FF6692\", \"#B6E880\", \"#FF97FF\", \"#FECB52\"], \"font\": {\"color\": \"#2a3f5f\"}, \"geo\": {\"bgcolor\": \"white\", \"lakecolor\": \"white\", \"landcolor\": \"#E5ECF6\", \"showlakes\": true, \"showland\": true, \"subunitcolor\": \"white\"}, \"hoverlabel\": {\"align\": \"left\"}, \"hovermode\": \"closest\", \"mapbox\": {\"style\": \"light\"}, \"paper_bgcolor\": \"white\", \"plot_bgcolor\": \"#E5ECF6\", \"polar\": {\"angularaxis\": {\"gridcolor\": \"white\", \"linecolor\": \"white\", \"ticks\": \"\"}, \"bgcolor\": \"#E5ECF6\", \"radialaxis\": {\"gridcolor\": \"white\", \"linecolor\": \"white\", \"ticks\": \"\"}}, \"scene\": {\"xaxis\": {\"backgroundcolor\": \"#E5ECF6\", \"gridcolor\": \"white\", \"gridwidth\": 2, \"linecolor\": \"white\", \"showbackground\": true, \"ticks\": \"\", \"zerolinecolor\": \"white\"}, \"yaxis\": {\"backgroundcolor\": \"#E5ECF6\", \"gridcolor\": \"white\", \"gridwidth\": 2, \"linecolor\": \"white\", \"showbackground\": true, \"ticks\": \"\", \"zerolinecolor\": \"white\"}, \"zaxis\": {\"backgroundcolor\": \"#E5ECF6\", \"gridcolor\": \"white\", \"gridwidth\": 2, \"linecolor\": \"white\", \"showbackground\": true, \"ticks\": \"\", \"zerolinecolor\": \"white\"}}, \"shapedefaults\": {\"line\": {\"color\": \"#2a3f5f\"}}, \"ternary\": {\"aaxis\": {\"gridcolor\": \"white\", \"linecolor\": \"white\", \"ticks\": \"\"}, \"baxis\": {\"gridcolor\": \"white\", \"linecolor\": \"white\", \"ticks\": \"\"}, \"bgcolor\": \"#E5ECF6\", \"caxis\": {\"gridcolor\": \"white\", \"linecolor\": \"white\", \"ticks\": \"\"}}, \"title\": {\"x\": 0.05}, \"xaxis\": {\"automargin\": true, \"gridcolor\": \"white\", \"linecolor\": \"white\", \"ticks\": \"\", \"title\": {\"standoff\": 15}, \"zerolinecolor\": \"white\", \"zerolinewidth\": 2}, \"yaxis\": {\"automargin\": true, \"gridcolor\": \"white\", \"linecolor\": \"white\", \"ticks\": \"\", \"title\": {\"standoff\": 15}, \"zerolinecolor\": \"white\", \"zerolinewidth\": 2}}}, \"title\": {\"text\": \"Robot plot in different configurations\"}, \"width\": 1000},\n",
              "                        {\"responsive\": true}\n",
              "                    ).then(function(){\n",
              "                            \n",
              "var gd = document.getElementById('3a5d8a90-0365-4aee-b359-1071d859c0f3');\n",
              "var x = new MutationObserver(function (mutations, observer) {{\n",
              "        var display = window.getComputedStyle(gd).display;\n",
              "        if (!display || display === 'none') {{\n",
              "            console.log([gd, 'removed!']);\n",
              "            Plotly.purge(gd);\n",
              "            observer.disconnect();\n",
              "        }}\n",
              "}});\n",
              "\n",
              "// Listen for the removal of the full notebook cells\n",
              "var notebookContainer = gd.closest('#notebook-container');\n",
              "if (notebookContainer) {{\n",
              "    x.observe(notebookContainer, {childList: true});\n",
              "}}\n",
              "\n",
              "// Listen for the clearing of the current output cell\n",
              "var outputEl = gd.closest('.output');\n",
              "if (outputEl) {{\n",
              "    x.observe(outputEl, {childList: true});\n",
              "}}\n",
              "\n",
              "                        })\n",
              "                };\n",
              "                \n",
              "            </script>\n",
              "        </div>\n",
              "</body>\n",
              "</html>"
            ]
          },
          "metadata": {
            "tags": []
          }
        }
      ]
    },
    {
      "cell_type": "markdown",
      "metadata": {
        "id": "F_m68siiiICE"
      },
      "source": [
        "##### <b><i>Taking into account Task Priority</i></b> "
      ]
    },
    {
      "cell_type": "code",
      "metadata": {
        "id": "RB5VUTu2h6ZV"
      },
      "source": [
        "def get_cnfs_priority(method_fun, q0=np.deg2rad([0,30,0,-20,0,45,0]), kwargs=dict()):\r\n",
        "  \"\"\"Returns all the joint configurations for the robot at different points on \r\n",
        "    the required trajectory for a specific method\"\"\"\r\n",
        "\r\n",
        "  x = np.hstack([\r\n",
        "          [ 0.4 for _ in range(5) ],\r\n",
        "          [ 0.2 for _ in range(5)], \r\n",
        "          np.linspace(0.2, 0.4, 5), \r\n",
        "          np.linspace(0.2, 0.4, 5) ])\r\n",
        "  \r\n",
        "  y = np.hstack([\r\n",
        "          np.linspace(0.2, 0.4, 5), \r\n",
        "          np.linspace(0.2, 0.4,5), \r\n",
        "          [ 0.4 for _ in range(5) ], \r\n",
        "          [ 0.2 for _ in range(5)]]) \r\n",
        "  \r\n",
        "  z = [ 0.9 for _ in x ]\r\n",
        "\r\n",
        "  rx = [ np.pi/2 for _ in x ]\r\n",
        "  ry = [ 0 for _ in x ]\r\n",
        "  rz = [ 0 for _ in x ]\r\n",
        "\r\n",
        "  rob_cnfs = []   # will contain the result of each inverse kinematics\r\n",
        "\r\n",
        "  start_time = time.time()\r\n",
        "\r\n",
        "  for (i, j, k, phi_x, phi_y, phi_z) in zip (x, y, z, rx, ry, rz):\r\n",
        "    pos = [i, j, k, phi_x, phi_y, phi_z]\r\n",
        "\r\n",
        "    q = method_fun(q0, pos, **kwargs)\r\n",
        "\r\n",
        "    rob_cnfs.append(q)\r\n",
        "    # q0 = q     # Sets the new initial joint configurations to the previous\r\n",
        "\r\n",
        "  end_time = time.time()\r\n",
        "\r\n",
        "  print(f\"\\n{np.round(end_time-start_time, 1)} seconds : Total time using {method_fun.__name__} \\n\")\r\n",
        "  if kwargs: print(f\"\\nParameters used: {kwargs}\")\r\n",
        "\r\n",
        "  plot_robots(rob_cnfs, traj_x=x, traj_y=y, traj_z=z)"
      ],
      "execution_count": null,
      "outputs": []
    },
    {
      "cell_type": "code",
      "metadata": {
        "id": "zYltLn0fqQZz"
      },
      "source": [
        "# Using Damped Least Square\r\n",
        "def dls_priority(q0, p_goal, lmbda = sqrt(0.01), time_step=0.1, max_iteration=3000, accuracy=0.001):\r\n",
        "\r\n",
        "  assert np.linalg.norm(p_goal[:3]) < 0.85*np.sum([a1, a2, a3, a4]), \"Robot Length constraint violated\"\r\n",
        "\r\n",
        "  p = FK(q0)[:3,-1]\r\n",
        "  t_dot = p_goal[:3] - p\r\n",
        "  e = np.linalg.norm(t_dot)\r\n",
        "  q_n0 = q0\r\n",
        "  q_n1 = q0\r\n",
        "\r\n",
        "  i=0\r\n",
        "\r\n",
        "  start_time = time.time()\r\n",
        "  while True:\r\n",
        "    if (e < accuracy): \r\n",
        "      break\r\n",
        "    \r\n",
        "    fk = FK(q_n0)\r\n",
        "\r\n",
        "    rx, ry, rz = euler_angles(fk[:3,:3])\r\n",
        "\r\n",
        "    p = np.hstack([fk[:3,-1], [rx, ry, rz] ]) # current position and orientation\r\n",
        "\r\n",
        "    t_dot1 = p_goal[:3] - p[:3]\r\n",
        "    t_dot2 = p_goal[3:5] - p[3:5]\r\n",
        "\r\n",
        "    e = np.linalg.norm(t_dot1)\r\n",
        "\r\n",
        "    Jt1 = jacobian(q_n0)[:3]\r\n",
        "    Jt2 = jacobian(q_n0)[3:5]\r\n",
        "\r\n",
        "    Jt1_dls = Jt1.T @ np.linalg.inv( (Jt1 @ Jt1.T)  + (lmbda**2 * np.eye(3)) )\r\n",
        "    p1 = np.eye(7) - (Jt1_dls @ Jt1)\r\n",
        "    \r\n",
        "    Jt2_term = Jt2 @ p1\r\n",
        "    Jt2_dls = Jt2_term.T @ np.linalg.inv( (Jt2_term @ Jt2_term.T)  + (lmbda**2 * np.eye(2)) )\r\n",
        "\r\n",
        "    v1 = Jt2_dls @ (t_dot2 - Jt2 @ Jt1_dls @ t_dot1)\r\n",
        "    q_dot = (Jt1_dls @ t_dot1) + p1 @ v1\r\n",
        "\r\n",
        "    q_n1 = q_n0 + (time_step * q_dot)  \r\n",
        "\r\n",
        "    q_n0 = q_n1\r\n",
        "\r\n",
        "    i+=1\r\n",
        "    if (i > max_iteration):\r\n",
        "      print(\"No convergence\")\r\n",
        "      break\r\n",
        "    \r\n",
        "  end_time = time.time()\r\n",
        "  print(f\"to {np.round(p_goal,2)} :: time taken {np.round(end_time - start_time, 4)} seconds\\n\")\r\n",
        "\r\n",
        "  return np.mod(q_n1, 2*np.pi)"
      ],
      "execution_count": null,
      "outputs": []
    },
    {
      "cell_type": "code",
      "metadata": {
        "colab": {
          "base_uri": "https://localhost:8080/",
          "height": 1000
        },
        "id": "RhT5RvoxF_QX",
        "outputId": "1d308f11-f009-44c9-fb32-40dee060c2ee"
      },
      "source": [
        "get_cnfs_priority(method_fun=dls_priority, q0=np.deg2rad([0,0,0,0,0,0,0]), kwargs=dict(accuracy=0.001))"
      ],
      "execution_count": null,
      "outputs": [
        {
          "output_type": "stream",
          "text": [
            "to [0.4  0.2  0.9  1.57 0.   0.  ] :: time taken 2.3294 seconds\n",
            "\n",
            "to [0.4  0.25 0.9  1.57 0.   0.  ] :: time taken 10.3674 seconds\n",
            "\n",
            "to [0.4  0.3  0.9  1.57 0.   0.  ] :: time taken 2.5396 seconds\n",
            "\n",
            "to [0.4  0.35 0.9  1.57 0.   0.  ] :: time taken 2.3838 seconds\n",
            "\n",
            "to [0.4  0.4  0.9  1.57 0.   0.  ] :: time taken 25.1397 seconds\n",
            "\n",
            "to [0.2  0.2  0.9  1.57 0.   0.  ] :: time taken 1.6776 seconds\n",
            "\n",
            "to [0.2  0.25 0.9  1.57 0.   0.  ] :: time taken 4.029 seconds\n",
            "\n",
            "to [0.2  0.3  0.9  1.57 0.   0.  ] :: time taken 3.2437 seconds\n",
            "\n",
            "to [0.2  0.35 0.9  1.57 0.   0.  ] :: time taken 3.6257 seconds\n",
            "\n",
            "to [0.2  0.4  0.9  1.57 0.   0.  ] :: time taken 5.5313 seconds\n",
            "\n",
            "to [0.2  0.4  0.9  1.57 0.   0.  ] :: time taken 5.4706 seconds\n",
            "\n",
            "to [0.25 0.4  0.9  1.57 0.   0.  ] :: time taken 5.9439 seconds\n",
            "\n",
            "to [0.3  0.4  0.9  1.57 0.   0.  ] :: time taken 2.1245 seconds\n",
            "\n",
            "to [0.35 0.4  0.9  1.57 0.   0.  ] :: time taken 1.8722 seconds\n",
            "\n",
            "to [0.4  0.4  0.9  1.57 0.   0.  ] :: time taken 25.9597 seconds\n",
            "\n",
            "to [0.2  0.2  0.9  1.57 0.   0.  ] :: time taken 1.6684 seconds\n",
            "\n",
            "to [0.25 0.2  0.9  1.57 0.   0.  ] :: time taken 8.177 seconds\n",
            "\n",
            "to [0.3  0.2  0.9  1.57 0.   0.  ] :: time taken 2.0992 seconds\n",
            "\n",
            "to [0.35 0.2  0.9  1.57 0.   0.  ] :: time taken 5.5269 seconds\n",
            "\n",
            "to [0.4  0.2  0.9  1.57 0.   0.  ] :: time taken 2.394 seconds\n",
            "\n",
            "\n",
            "122.1 seconds : Total time using dls_priority \n",
            "\n",
            "\n",
            "Parameters used: {'accuracy': 0.001}\n"
          ],
          "name": "stdout"
        },
        {
          "output_type": "display_data",
          "data": {
            "text/html": [
              "<html>\n",
              "<head><meta charset=\"utf-8\" /></head>\n",
              "<body>\n",
              "    <div>\n",
              "            <script src=\"https://cdnjs.cloudflare.com/ajax/libs/mathjax/2.7.5/MathJax.js?config=TeX-AMS-MML_SVG\"></script><script type=\"text/javascript\">if (window.MathJax) {MathJax.Hub.Config({SVG: {font: \"STIX-Web\"}});}</script>\n",
              "                <script type=\"text/javascript\">window.PlotlyConfig = {MathJaxConfig: 'local'};</script>\n",
              "        <script src=\"https://cdn.plot.ly/plotly-latest.min.js\"></script>    \n",
              "            <div id=\"c8f7b4b8-0741-4076-a7a6-31e1856b1dfa\" class=\"plotly-graph-div\" style=\"height:700px; width:1000px;\"></div>\n",
              "            <script type=\"text/javascript\">\n",
              "                \n",
              "                    window.PLOTLYENV=window.PLOTLYENV || {};\n",
              "                    \n",
              "                if (document.getElementById(\"c8f7b4b8-0741-4076-a7a6-31e1856b1dfa\")) {\n",
              "                    Plotly.newPlot(\n",
              "                        'c8f7b4b8-0741-4076-a7a6-31e1856b1dfa',\n",
              "                        [{\"hoverinfo\": \"none\", \"marker\": {\"size\": 0.1}, \"name\": \"desired trajectory\", \"type\": \"scatter3d\", \"x\": [0.4, 0.4, 0.4, 0.4, 0.4, 0.2, 0.2, 0.2, 0.2, 0.2, 0.2, 0.25, 0.30000000000000004, 0.35000000000000003, 0.4, 0.2, 0.25, 0.30000000000000004, 0.35000000000000003, 0.4], \"y\": [0.2, 0.25, 0.30000000000000004, 0.35000000000000003, 0.4, 0.2, 0.25, 0.30000000000000004, 0.35000000000000003, 0.4, 0.4, 0.4, 0.4, 0.4, 0.4, 0.2, 0.2, 0.2, 0.2, 0.2], \"z\": [0.9, 0.9, 0.9, 0.9, 0.9, 0.9, 0.9, 0.9, 0.9, 0.9, 0.9, 0.9, 0.9, 0.9, 0.9, 0.9, 0.9, 0.9, 0.9, 0.9]}, {\"hoverinfo\": \"text\", \"hovertext\": [\"joint 0: 0.0\", \"joint 1: 333.0\", \"joint 2: 286.0\", \"joint 3: 41.0\", \"joint 4: 84.0\", \"joint 5: 252.0\", \"joint 6: 41.0\", \"joint 7: 280.0\"], \"line\": {\"color\": \"darkblue\", \"width\": 10}, \"marker\": {\"color\": [\"black\", \"orange\", \"yellow\", \"pink\", \"blue\", \"goldenrod\", \"green\", \"red\"], \"size\": 5.0}, \"name\": \"conf 0\", \"opacity\": 1, \"showlegend\": false, \"type\": \"scatter3d\", \"x\": [0.0, 0.0, 0.0, 0.18, 0.18, 0.4, 0.4, 0.4], \"y\": [0.0, 0.0, 0.0, 0.36, 0.36, 0.2, 0.2, 0.2], \"z\": [0.0, 0.36, 0.36, 0.47442008972026495, 0.47442008972026495, 0.7732453537286674, 0.7732453537286674, 0.8992258420771203]}, {\"hoverinfo\": \"text\", \"hovertext\": [\"joint 0: 0.0\", \"joint 1: 303.0\", \"joint 2: 272.0\", \"joint 3: 1.0\", \"joint 4: 80.0\", \"joint 5: 180.0\", \"joint 6: 353.0\", \"joint 7: 29.0\"], \"line\": {\"color\": \"darkblue\", \"width\": 10}, \"marker\": {\"color\": [\"black\", \"orange\", \"yellow\", \"pink\", \"blue\", \"goldenrod\", \"green\", \"red\"], \"size\": 5.0}, \"name\": \"conf 1\", \"opacity\": 0.3, \"showlegend\": false, \"type\": \"scatter3d\", \"x\": [0.0, 0.0, 0.0, 0.35, 0.35, 0.4, 0.4, 0.4], \"y\": [0.0, 0.0, 0.0, 0.23, 0.23, 0.25, 0.25, 0.25], \"z\": [0.0, 0.36, 0.36, 0.37658200970645794, 0.37658200970645794, 0.7733097129927257, 0.7733097129927257, 0.8993031579027815]}, {\"hoverinfo\": \"text\", \"hovertext\": [\"joint 0: 0.0\", \"joint 1: 320.0\", \"joint 2: 275.0\", \"joint 3: 16.0\", \"joint 4: 76.0\", \"joint 5: 300.0\", \"joint 6: 18.0\", \"joint 7: 248.0\"], \"line\": {\"color\": \"darkblue\", \"width\": 10}, \"marker\": {\"color\": [\"black\", \"orange\", \"yellow\", \"pink\", \"blue\", \"goldenrod\", \"green\", \"red\"], \"size\": 5.0}, \"name\": \"conf 2\", \"opacity\": 0.3, \"showlegend\": false, \"type\": \"scatter3d\", \"x\": [0.0, 0.0, 0.0, 0.27, 0.27, 0.4, 0.4, 0.4], \"y\": [0.0, 0.0, 0.0, 0.32, 0.32, 0.3, 0.3, 0.3], \"z\": [0.0, 0.36, 0.36, 0.39468797709860365, 0.39468797709860365, 0.7731935697624708, 0.7731935697624708, 0.899178589119354]}, {\"hoverinfo\": \"text\", \"hovertext\": [\"joint 0: 0.0\", \"joint 1: 328.0\", \"joint 2: 277.0\", \"joint 3: 22.0\", \"joint 4: 68.0\", \"joint 5: 324.0\", \"joint 6: 27.0\", \"joint 7: 231.0\"], \"line\": {\"color\": \"darkblue\", \"width\": 10}, \"marker\": {\"color\": [\"black\", \"orange\", \"yellow\", \"pink\", \"blue\", \"goldenrod\", \"green\", \"red\"], \"size\": 5.0}, \"name\": \"conf 3\", \"opacity\": 0.3, \"showlegend\": false, \"type\": \"scatter3d\", \"x\": [0.0, 0.0, 0.0, 0.22, 0.22, 0.4, 0.4, 0.4], \"y\": [0.0, 0.0, 0.0, 0.35, 0.35, 0.37, 0.37, 0.35], \"z\": [0.0, 0.36, 0.36, 0.4089751401053843, 0.4089751401053843, 0.7672833980783329, 0.7672833980783329, 0.8915331989317854]}, {\"hoverinfo\": \"text\", \"hovertext\": [\"joint 0: 0.0\", \"joint 1: 276.0\", \"joint 2: 309.0\", \"joint 3: 97.0\", \"joint 4: 297.0\", \"joint 5: 305.0\", \"joint 6: 69.0\", \"joint 7: 166.0\"], \"line\": {\"color\": \"darkblue\", \"width\": 10}, \"marker\": {\"color\": [\"black\", \"orange\", \"yellow\", \"pink\", \"blue\", \"goldenrod\", \"green\", \"red\"], \"size\": 5.0}, \"name\": \"conf 4\", \"opacity\": 0.3, \"showlegend\": false, \"type\": \"scatter3d\", \"x\": [0.0, 0.0, 0.0, 0.32, 0.32, 0.4, 0.4, 0.4], \"y\": [0.0, 0.0, 0.0, 0.04, 0.04, 0.4, 0.4, 0.4], \"z\": [0.0, 0.36, 0.36, 0.6260867633223367, 0.6260867633223367, 0.7734358510950738, 0.7734358510950738, 0.8994265167833486]}, {\"hoverinfo\": \"text\", \"hovertext\": [\"joint 0: 0.0\", \"joint 1: 317.0\", \"joint 2: 275.0\", \"joint 3: 1.0\", \"joint 4: 105.0\", \"joint 5: 359.0\", \"joint 6: 340.0\", \"joint 7: 195.0\"], \"line\": {\"color\": \"darkblue\", \"width\": 10}, \"marker\": {\"color\": [\"black\", \"orange\", \"yellow\", \"pink\", \"blue\", \"goldenrod\", \"green\", \"red\"], \"size\": 5.0}, \"name\": \"conf 5\", \"opacity\": 0.3, \"showlegend\": false, \"type\": \"scatter3d\", \"x\": [0.0, 0.0, 0.0, 0.28, 0.28, 0.2, 0.2, 0.2], \"y\": [0.0, 0.0, 0.0, 0.31, 0.31, 0.2, 0.2, 0.2], \"z\": [0.0, 0.36, 0.36, 0.3972235584786947, 0.3972235584786947, 0.7731810739934603, 0.7731810739934603, 0.8991408392914094]}, {\"hoverinfo\": \"text\", \"hovertext\": [\"joint 0: 0.0\", \"joint 1: 184.0\", \"joint 2: 74.0\", \"joint 3: 213.0\", \"joint 4: 101.0\", \"joint 5: 50.0\", \"joint 6: 319.0\", \"joint 7: 104.0\"], \"line\": {\"color\": \"darkblue\", \"width\": 10}, \"marker\": {\"color\": [\"black\", \"orange\", \"yellow\", \"pink\", \"blue\", \"goldenrod\", \"green\", \"red\"], \"size\": 5.0}, \"name\": \"conf 6\", \"opacity\": 0.3, \"showlegend\": false, \"type\": \"scatter3d\", \"x\": [0.0, 0.0, 0.0, -0.03, -0.03, 0.2, 0.2, 0.2], \"y\": [0.0, 0.0, 0.0, 0.4, 0.4, 0.25, 0.25, 0.25], \"z\": [0.0, 0.36, 0.36, 0.4781261400597614, 0.4781261400597614, 0.7747700024491364, 0.7747700024491364, 0.9007262193397048]}, {\"hoverinfo\": \"text\", \"hovertext\": [\"joint 0: 0.0\", \"joint 1: 180.0\", \"joint 2: 79.0\", \"joint 3: 208.0\", \"joint 4: 97.0\", \"joint 5: 51.0\", \"joint 6: 330.0\", \"joint 7: 135.0\"], \"line\": {\"color\": \"darkblue\", \"width\": 10}, \"marker\": {\"color\": [\"black\", \"orange\", \"yellow\", \"pink\", \"blue\", \"goldenrod\", \"green\", \"red\"], \"size\": 5.0}, \"name\": \"conf 7\", \"opacity\": 0.3, \"showlegend\": false, \"type\": \"scatter3d\", \"x\": [0.0, 0.0, 0.0, 0.0, 0.0, 0.19, 0.19, 0.2], \"y\": [0.0, 0.0, 0.0, 0.41, 0.41, 0.3, 0.3, 0.3], \"z\": [0.0, 0.36, 0.36, 0.441395988096627, 0.441395988096627, 0.7752932606810092, 0.7752932606810092, 0.900796850001506]}, {\"hoverinfo\": \"text\", \"hovertext\": [\"joint 0: 0.0\", \"joint 1: 278.0\", \"joint 2: 359.0\", \"joint 3: 234.0\", \"joint 4: 90.0\", \"joint 5: 183.0\", \"joint 6: 90.0\", \"joint 7: 187.0\"], \"line\": {\"color\": \"darkblue\", \"width\": 10}, \"marker\": {\"color\": [\"black\", \"orange\", \"yellow\", \"pink\", \"blue\", \"goldenrod\", \"green\", \"red\"], \"size\": 5.0}, \"name\": \"conf 8\", \"opacity\": 0.3, \"showlegend\": false, \"type\": \"scatter3d\", \"x\": [0.0, 0.0, 0.0, 0.0, 0.0, 0.19, 0.19, 0.2], \"y\": [0.0, 0.0, 0.0, 0.0, 0.0, 0.35, 0.35, 0.35], \"z\": [0.0, 0.36, 0.36, 0.7799738492143554, 0.7799738492143554, 0.7741182379444839, 0.7741182379444839, 0.8998289054240902]}, {\"hoverinfo\": \"text\", \"hovertext\": [\"joint 0: 0.0\", \"joint 1: 279.0\", \"joint 2: 308.0\", \"joint 3: 114.0\", \"joint 4: 276.0\", \"joint 5: 309.0\", \"joint 6: 68.0\", \"joint 7: 139.0\"], \"line\": {\"color\": \"darkblue\", \"width\": 10}, \"marker\": {\"color\": [\"black\", \"orange\", \"yellow\", \"pink\", \"blue\", \"goldenrod\", \"green\", \"red\"], \"size\": 5.0}, \"name\": \"conf 9\", \"opacity\": 0.3, \"showlegend\": false, \"type\": \"scatter3d\", \"x\": [0.0, 0.0, 0.0, 0.33, 0.33, 0.2, 0.2, 0.2], \"y\": [0.0, 0.0, 0.0, 0.05, 0.05, 0.4, 0.4, 0.4], \"z\": [0.0, 0.36, 0.36, 0.6184145608235014, 0.6184145608235014, 0.7732959601470514, 0.7732959601470514, 0.8992866141899666]}, {\"hoverinfo\": \"text\", \"hovertext\": [\"joint 0: 0.0\", \"joint 1: 279.0\", \"joint 2: 308.0\", \"joint 3: 114.0\", \"joint 4: 276.0\", \"joint 5: 309.0\", \"joint 6: 68.0\", \"joint 7: 139.0\"], \"line\": {\"color\": \"darkblue\", \"width\": 10}, \"marker\": {\"color\": [\"black\", \"orange\", \"yellow\", \"pink\", \"blue\", \"goldenrod\", \"green\", \"red\"], \"size\": 5.0}, \"name\": \"conf 10\", \"opacity\": 0.3, \"showlegend\": false, \"type\": \"scatter3d\", \"x\": [0.0, 0.0, 0.0, 0.33, 0.33, 0.2, 0.2, 0.2], \"y\": [0.0, 0.0, 0.0, 0.05, 0.05, 0.4, 0.4, 0.4], \"z\": [0.0, 0.36, 0.36, 0.6184145608235014, 0.6184145608235014, 0.7732959601470514, 0.7732959601470514, 0.8992866141899666]}, {\"hoverinfo\": \"text\", \"hovertext\": [\"joint 0: 0.0\", \"joint 1: 307.0\", \"joint 2: 350.0\", \"joint 3: 25.0\", \"joint 4: 280.0\", \"joint 5: 355.0\", \"joint 6: 89.0\", \"joint 7: 172.0\"], \"line\": {\"color\": \"darkblue\", \"width\": 10}, \"marker\": {\"color\": [\"black\", \"orange\", \"yellow\", \"pink\", \"blue\", \"goldenrod\", \"green\", \"red\"], \"size\": 5.0}, \"name\": \"conf 11\", \"opacity\": 0.3, \"showlegend\": false, \"type\": \"scatter3d\", \"x\": [0.0, 0.0, 0.0, 0.06, 0.06, 0.25, 0.25, 0.25], \"y\": [0.0, 0.0, 0.0, 0.05, 0.05, 0.4, 0.4, 0.4], \"z\": [0.0, 0.36, 0.36, 0.7730362702657065, 0.7730362702657065, 0.7737470270585025, 0.7737470270585025, 0.8997236497855285]}, {\"hoverinfo\": \"text\", \"hovertext\": [\"joint 0: 0.0\", \"joint 1: 280.0\", \"joint 2: 339.0\", \"joint 3: 241.0\", \"joint 4: 76.0\", \"joint 5: 162.0\", \"joint 6: 86.0\", \"joint 7: 178.0\"], \"line\": {\"color\": \"darkblue\", \"width\": 10}, \"marker\": {\"color\": [\"black\", \"orange\", \"yellow\", \"pink\", \"blue\", \"goldenrod\", \"green\", \"red\"], \"size\": 5.0}, \"name\": \"conf 12\", \"opacity\": 0.3, \"showlegend\": false, \"type\": \"scatter3d\", \"x\": [0.0, 0.0, 0.0, 0.15, 0.15, 0.3, 0.3, 0.3], \"y\": [0.0, 0.0, 0.0, 0.03, 0.03, 0.4, 0.4, 0.4], \"z\": [0.0, 0.36, 0.36, 0.7513042654588757, 0.7513042654588757, 0.7734999256422226, 0.7734999256422226, 0.8994921076836255]}, {\"hoverinfo\": \"text\", \"hovertext\": [\"joint 0: 0.0\", \"joint 1: 283.0\", \"joint 2: 334.0\", \"joint 3: 236.0\", \"joint 4: 70.0\", \"joint 5: 159.0\", \"joint 6: 85.0\", \"joint 7: 183.0\"], \"line\": {\"color\": \"darkblue\", \"width\": 10}, \"marker\": {\"color\": [\"black\", \"orange\", \"yellow\", \"pink\", \"blue\", \"goldenrod\", \"green\", \"red\"], \"size\": 5.0}, \"name\": \"conf 13\", \"opacity\": 0.3, \"showlegend\": false, \"type\": \"scatter3d\", \"x\": [0.0, 0.0, 0.0, 0.18, 0.18, 0.35, 0.35, 0.35], \"y\": [0.0, 0.0, 0.0, 0.04, 0.04, 0.4, 0.4, 0.4], \"z\": [0.0, 0.36, 0.36, 0.738667421717851, 0.738667421717851, 0.773444814530257, 0.773444814530257, 0.8994356469670594]}, {\"hoverinfo\": \"text\", \"hovertext\": [\"joint 0: 0.0\", \"joint 1: 276.0\", \"joint 2: 309.0\", \"joint 3: 97.0\", \"joint 4: 297.0\", \"joint 5: 305.0\", \"joint 6: 69.0\", \"joint 7: 166.0\"], \"line\": {\"color\": \"darkblue\", \"width\": 10}, \"marker\": {\"color\": [\"black\", \"orange\", \"yellow\", \"pink\", \"blue\", \"goldenrod\", \"green\", \"red\"], \"size\": 5.0}, \"name\": \"conf 14\", \"opacity\": 0.3, \"showlegend\": false, \"type\": \"scatter3d\", \"x\": [0.0, 0.0, 0.0, 0.32, 0.32, 0.4, 0.4, 0.4], \"y\": [0.0, 0.0, 0.0, 0.04, 0.04, 0.4, 0.4, 0.4], \"z\": [0.0, 0.36, 0.36, 0.6260867633223367, 0.6260867633223367, 0.7734358510950738, 0.7734358510950738, 0.8994265167833486]}, {\"hoverinfo\": \"text\", \"hovertext\": [\"joint 0: 0.0\", \"joint 1: 317.0\", \"joint 2: 275.0\", \"joint 3: 1.0\", \"joint 4: 105.0\", \"joint 5: 359.0\", \"joint 6: 340.0\", \"joint 7: 195.0\"], \"line\": {\"color\": \"darkblue\", \"width\": 10}, \"marker\": {\"color\": [\"black\", \"orange\", \"yellow\", \"pink\", \"blue\", \"goldenrod\", \"green\", \"red\"], \"size\": 5.0}, \"name\": \"conf 15\", \"opacity\": 0.3, \"showlegend\": false, \"type\": \"scatter3d\", \"x\": [0.0, 0.0, 0.0, 0.28, 0.28, 0.2, 0.2, 0.2], \"y\": [0.0, 0.0, 0.0, 0.31, 0.31, 0.2, 0.2, 0.2], \"z\": [0.0, 0.36, 0.36, 0.3972235584786947, 0.3972235584786947, 0.7731810739934603, 0.7731810739934603, 0.8991408392914094]}, {\"hoverinfo\": \"text\", \"hovertext\": [\"joint 0: 0.0\", \"joint 1: 233.0\", \"joint 2: 315.0\", \"joint 3: 308.0\", \"joint 4: 101.0\", \"joint 5: 145.0\", \"joint 6: 73.0\", \"joint 7: 161.0\"], \"line\": {\"color\": \"darkblue\", \"width\": 10}, \"marker\": {\"color\": [\"black\", \"orange\", \"yellow\", \"pink\", \"blue\", \"goldenrod\", \"green\", \"red\"], \"size\": 5.0}, \"name\": \"conf 16\", \"opacity\": 0.3, \"showlegend\": false, \"type\": \"scatter3d\", \"x\": [0.0, 0.0, 0.0, 0.24, 0.24, 0.25, 0.25, 0.25], \"y\": [0.0, 0.0, 0.0, -0.18, -0.18, 0.2, 0.2, 0.2], \"z\": [0.0, 0.36, 0.36, 0.6552145243308365, 0.6552145243308365, 0.7736414191022152, 0.7736414191022152, 0.8996282012951071]}, {\"hoverinfo\": \"text\", \"hovertext\": [\"joint 0: 0.0\", \"joint 1: 317.0\", \"joint 2: 273.0\", \"joint 3: 10.0\", \"joint 4: 95.0\", \"joint 5: 49.0\", \"joint 6: 356.0\", \"joint 7: 152.0\"], \"line\": {\"color\": \"darkblue\", \"width\": 10}, \"marker\": {\"color\": [\"black\", \"orange\", \"yellow\", \"pink\", \"blue\", \"goldenrod\", \"green\", \"red\"], \"size\": 5.0}, \"name\": \"conf 17\", \"opacity\": 0.3, \"showlegend\": false, \"type\": \"scatter3d\", \"x\": [0.0, 0.0, 0.0, 0.29, 0.29, 0.3, 0.3, 0.3], \"y\": [0.0, 0.0, 0.0, 0.31, 0.31, 0.22, 0.22, 0.2], \"z\": [0.0, 0.36, 0.36, 0.38220029534689903, 0.38220029534689903, 0.7719437236951419, 0.7719437236951419, 0.8965559870094667]}, {\"hoverinfo\": \"text\", \"hovertext\": [\"joint 0: 0.0\", \"joint 1: 239.0\", \"joint 2: 309.0\", \"joint 3: 299.0\", \"joint 4: 91.0\", \"joint 5: 133.0\", \"joint 6: 67.0\", \"joint 7: 146.0\"], \"line\": {\"color\": \"darkblue\", \"width\": 10}, \"marker\": {\"color\": [\"black\", \"orange\", \"yellow\", \"pink\", \"blue\", \"goldenrod\", \"green\", \"red\"], \"size\": 5.0}, \"name\": \"conf 18\", \"opacity\": 0.3, \"showlegend\": false, \"type\": \"scatter3d\", \"x\": [0.0, 0.0, 0.0, 0.28, 0.28, 0.35, 0.35, 0.35], \"y\": [0.0, 0.0, 0.0, -0.17, -0.17, 0.2, 0.2, 0.2], \"z\": [0.0, 0.36, 0.36, 0.6232289749752986, 0.6232289749752986, 0.7732134249834283, 0.7732134249834283, 0.8991943125052156]}, {\"hoverinfo\": \"text\", \"hovertext\": [\"joint 0: 0.0\", \"joint 1: 333.0\", \"joint 2: 286.0\", \"joint 3: 41.0\", \"joint 4: 84.0\", \"joint 5: 252.0\", \"joint 6: 41.0\", \"joint 7: 280.0\"], \"line\": {\"color\": \"darkblue\", \"width\": 10}, \"marker\": {\"color\": [\"black\", \"orange\", \"yellow\", \"pink\", \"blue\", \"goldenrod\", \"green\", \"red\"], \"size\": 5.0}, \"name\": \"conf 19\", \"opacity\": 1, \"showlegend\": false, \"type\": \"scatter3d\", \"x\": [0.0, 0.0, 0.0, 0.18, 0.18, 0.4, 0.4, 0.4], \"y\": [0.0, 0.0, 0.0, 0.36, 0.36, 0.2, 0.2, 0.2], \"z\": [0.0, 0.36, 0.36, 0.47442008972026495, 0.47442008972026495, 0.7732453537286674, 0.7732453537286674, 0.8992258420771203]}],\n",
              "                        {\"colorscale\": {\"diverging\": [[0.0, \"rgb(3, 35, 51)\"], [0.09090909090909091, \"rgb(13, 48, 100)\"], [0.18181818181818182, \"rgb(53, 50, 155)\"], [0.2727272727272727, \"rgb(93, 62, 153)\"], [0.36363636363636365, \"rgb(126, 77, 143)\"], [0.45454545454545453, \"rgb(158, 89, 135)\"], [0.5454545454545454, \"rgb(193, 100, 121)\"], [0.6363636363636364, \"rgb(225, 113, 97)\"], [0.7272727272727273, \"rgb(246, 139, 69)\"], [0.8181818181818182, \"rgb(251, 173, 60)\"], [0.9090909090909091, \"rgb(246, 211, 70)\"], [1.0, \"rgb(231, 250, 90)\"]]}, \"height\": 700, \"scene\": {\"aspectratio\": {\"x\": 1.25, \"y\": 1.25, \"z\": 1}, \"camera\": {\"eye\": {\"x\": -1.25, \"y\": -1.25, \"z\": 2}}, \"xaxis\": {\"nticks\": 8, \"range\": [-0.3, 0.9], \"title\": {\"text\": \"Robot x-axis\"}}, \"yaxis\": {\"nticks\": 8, \"range\": [-0.3, 0.9], \"title\": {\"text\": \"Robot y-axis\"}}, \"zaxis\": {\"nticks\": 8, \"range\": [-0.05, 1.3], \"title\": {\"text\": \"Robot z-axis\"}}}, \"template\": {\"data\": {\"bar\": [{\"error_x\": {\"color\": \"#2a3f5f\"}, \"error_y\": {\"color\": \"#2a3f5f\"}, \"marker\": {\"line\": {\"color\": \"#E5ECF6\", \"width\": 0.5}}, \"type\": \"bar\"}], \"barpolar\": [{\"marker\": {\"line\": {\"color\": \"#E5ECF6\", \"width\": 0.5}}, \"type\": \"barpolar\"}], \"carpet\": [{\"aaxis\": {\"endlinecolor\": \"#2a3f5f\", \"gridcolor\": \"white\", \"linecolor\": \"white\", \"minorgridcolor\": \"white\", \"startlinecolor\": \"#2a3f5f\"}, \"baxis\": {\"endlinecolor\": \"#2a3f5f\", \"gridcolor\": \"white\", \"linecolor\": \"white\", \"minorgridcolor\": \"white\", \"startlinecolor\": \"#2a3f5f\"}, \"type\": \"carpet\"}], \"choropleth\": [{\"colorbar\": {\"outlinewidth\": 0, \"ticks\": \"\"}, \"type\": \"choropleth\"}], \"contour\": [{\"colorbar\": {\"outlinewidth\": 0, \"ticks\": \"\"}, \"colorscale\": [[0.0, \"#0d0887\"], [0.1111111111111111, \"#46039f\"], [0.2222222222222222, \"#7201a8\"], [0.3333333333333333, \"#9c179e\"], [0.4444444444444444, \"#bd3786\"], [0.5555555555555556, \"#d8576b\"], [0.6666666666666666, \"#ed7953\"], [0.7777777777777778, \"#fb9f3a\"], [0.8888888888888888, \"#fdca26\"], [1.0, \"#f0f921\"]], \"type\": \"contour\"}], \"contourcarpet\": [{\"colorbar\": {\"outlinewidth\": 0, \"ticks\": \"\"}, \"type\": \"contourcarpet\"}], \"heatmap\": [{\"colorbar\": {\"outlinewidth\": 0, \"ticks\": \"\"}, \"colorscale\": [[0.0, \"#0d0887\"], [0.1111111111111111, \"#46039f\"], [0.2222222222222222, \"#7201a8\"], [0.3333333333333333, \"#9c179e\"], [0.4444444444444444, \"#bd3786\"], [0.5555555555555556, \"#d8576b\"], [0.6666666666666666, \"#ed7953\"], [0.7777777777777778, \"#fb9f3a\"], [0.8888888888888888, \"#fdca26\"], [1.0, \"#f0f921\"]], \"type\": \"heatmap\"}], \"heatmapgl\": [{\"colorbar\": {\"outlinewidth\": 0, \"ticks\": \"\"}, \"colorscale\": [[0.0, \"#0d0887\"], [0.1111111111111111, \"#46039f\"], [0.2222222222222222, \"#7201a8\"], [0.3333333333333333, \"#9c179e\"], [0.4444444444444444, \"#bd3786\"], [0.5555555555555556, \"#d8576b\"], [0.6666666666666666, \"#ed7953\"], [0.7777777777777778, \"#fb9f3a\"], [0.8888888888888888, \"#fdca26\"], [1.0, \"#f0f921\"]], \"type\": \"heatmapgl\"}], \"histogram\": [{\"marker\": {\"colorbar\": {\"outlinewidth\": 0, \"ticks\": \"\"}}, \"type\": \"histogram\"}], \"histogram2d\": [{\"colorbar\": {\"outlinewidth\": 0, \"ticks\": \"\"}, \"colorscale\": [[0.0, \"#0d0887\"], [0.1111111111111111, \"#46039f\"], [0.2222222222222222, \"#7201a8\"], [0.3333333333333333, \"#9c179e\"], [0.4444444444444444, \"#bd3786\"], [0.5555555555555556, \"#d8576b\"], [0.6666666666666666, \"#ed7953\"], [0.7777777777777778, \"#fb9f3a\"], [0.8888888888888888, \"#fdca26\"], [1.0, \"#f0f921\"]], \"type\": \"histogram2d\"}], \"histogram2dcontour\": [{\"colorbar\": {\"outlinewidth\": 0, \"ticks\": \"\"}, \"colorscale\": [[0.0, \"#0d0887\"], [0.1111111111111111, \"#46039f\"], [0.2222222222222222, \"#7201a8\"], [0.3333333333333333, \"#9c179e\"], [0.4444444444444444, \"#bd3786\"], [0.5555555555555556, \"#d8576b\"], [0.6666666666666666, \"#ed7953\"], [0.7777777777777778, \"#fb9f3a\"], [0.8888888888888888, \"#fdca26\"], [1.0, \"#f0f921\"]], \"type\": \"histogram2dcontour\"}], \"mesh3d\": [{\"colorbar\": {\"outlinewidth\": 0, \"ticks\": \"\"}, \"type\": \"mesh3d\"}], \"parcoords\": [{\"line\": {\"colorbar\": {\"outlinewidth\": 0, \"ticks\": \"\"}}, \"type\": \"parcoords\"}], \"pie\": [{\"automargin\": true, \"type\": \"pie\"}], \"scatter\": [{\"marker\": {\"colorbar\": {\"outlinewidth\": 0, \"ticks\": \"\"}}, \"type\": \"scatter\"}], \"scatter3d\": [{\"line\": {\"colorbar\": {\"outlinewidth\": 0, \"ticks\": \"\"}}, \"marker\": {\"colorbar\": {\"outlinewidth\": 0, \"ticks\": \"\"}}, \"type\": \"scatter3d\"}], \"scattercarpet\": [{\"marker\": {\"colorbar\": {\"outlinewidth\": 0, \"ticks\": \"\"}}, \"type\": \"scattercarpet\"}], \"scattergeo\": [{\"marker\": {\"colorbar\": {\"outlinewidth\": 0, \"ticks\": \"\"}}, \"type\": \"scattergeo\"}], \"scattergl\": [{\"marker\": {\"colorbar\": {\"outlinewidth\": 0, \"ticks\": \"\"}}, \"type\": \"scattergl\"}], \"scattermapbox\": [{\"marker\": {\"colorbar\": {\"outlinewidth\": 0, \"ticks\": \"\"}}, \"type\": \"scattermapbox\"}], \"scatterpolar\": [{\"marker\": {\"colorbar\": {\"outlinewidth\": 0, \"ticks\": \"\"}}, \"type\": \"scatterpolar\"}], \"scatterpolargl\": [{\"marker\": {\"colorbar\": {\"outlinewidth\": 0, \"ticks\": \"\"}}, \"type\": \"scatterpolargl\"}], \"scatterternary\": [{\"marker\": {\"colorbar\": {\"outlinewidth\": 0, \"ticks\": \"\"}}, \"type\": \"scatterternary\"}], \"surface\": [{\"colorbar\": {\"outlinewidth\": 0, \"ticks\": \"\"}, \"colorscale\": [[0.0, \"#0d0887\"], [0.1111111111111111, \"#46039f\"], [0.2222222222222222, \"#7201a8\"], [0.3333333333333333, \"#9c179e\"], [0.4444444444444444, \"#bd3786\"], [0.5555555555555556, \"#d8576b\"], [0.6666666666666666, \"#ed7953\"], [0.7777777777777778, \"#fb9f3a\"], [0.8888888888888888, \"#fdca26\"], [1.0, \"#f0f921\"]], \"type\": \"surface\"}], \"table\": [{\"cells\": {\"fill\": {\"color\": \"#EBF0F8\"}, \"line\": {\"color\": \"white\"}}, \"header\": {\"fill\": {\"color\": \"#C8D4E3\"}, \"line\": {\"color\": \"white\"}}, \"type\": \"table\"}]}, \"layout\": {\"annotationdefaults\": {\"arrowcolor\": \"#2a3f5f\", \"arrowhead\": 0, \"arrowwidth\": 1}, \"coloraxis\": {\"colorbar\": {\"outlinewidth\": 0, \"ticks\": \"\"}}, \"colorscale\": {\"diverging\": [[0, \"#8e0152\"], [0.1, \"#c51b7d\"], [0.2, \"#de77ae\"], [0.3, \"#f1b6da\"], [0.4, \"#fde0ef\"], [0.5, \"#f7f7f7\"], [0.6, \"#e6f5d0\"], [0.7, \"#b8e186\"], [0.8, \"#7fbc41\"], [0.9, \"#4d9221\"], [1, \"#276419\"]], \"sequential\": [[0.0, \"#0d0887\"], [0.1111111111111111, \"#46039f\"], [0.2222222222222222, \"#7201a8\"], [0.3333333333333333, \"#9c179e\"], [0.4444444444444444, \"#bd3786\"], [0.5555555555555556, \"#d8576b\"], [0.6666666666666666, \"#ed7953\"], [0.7777777777777778, \"#fb9f3a\"], [0.8888888888888888, \"#fdca26\"], [1.0, \"#f0f921\"]], \"sequentialminus\": [[0.0, \"#0d0887\"], [0.1111111111111111, \"#46039f\"], [0.2222222222222222, \"#7201a8\"], [0.3333333333333333, \"#9c179e\"], [0.4444444444444444, \"#bd3786\"], [0.5555555555555556, \"#d8576b\"], [0.6666666666666666, \"#ed7953\"], [0.7777777777777778, \"#fb9f3a\"], [0.8888888888888888, \"#fdca26\"], [1.0, \"#f0f921\"]]}, \"colorway\": [\"#636efa\", \"#EF553B\", \"#00cc96\", \"#ab63fa\", \"#FFA15A\", \"#19d3f3\", \"#FF6692\", \"#B6E880\", \"#FF97FF\", \"#FECB52\"], \"font\": {\"color\": \"#2a3f5f\"}, \"geo\": {\"bgcolor\": \"white\", \"lakecolor\": \"white\", \"landcolor\": \"#E5ECF6\", \"showlakes\": true, \"showland\": true, \"subunitcolor\": \"white\"}, \"hoverlabel\": {\"align\": \"left\"}, \"hovermode\": \"closest\", \"mapbox\": {\"style\": \"light\"}, \"paper_bgcolor\": \"white\", \"plot_bgcolor\": \"#E5ECF6\", \"polar\": {\"angularaxis\": {\"gridcolor\": \"white\", \"linecolor\": \"white\", \"ticks\": \"\"}, \"bgcolor\": \"#E5ECF6\", \"radialaxis\": {\"gridcolor\": \"white\", \"linecolor\": \"white\", \"ticks\": \"\"}}, \"scene\": {\"xaxis\": {\"backgroundcolor\": \"#E5ECF6\", \"gridcolor\": \"white\", \"gridwidth\": 2, \"linecolor\": \"white\", \"showbackground\": true, \"ticks\": \"\", \"zerolinecolor\": \"white\"}, \"yaxis\": {\"backgroundcolor\": \"#E5ECF6\", \"gridcolor\": \"white\", \"gridwidth\": 2, \"linecolor\": \"white\", \"showbackground\": true, \"ticks\": \"\", \"zerolinecolor\": \"white\"}, \"zaxis\": {\"backgroundcolor\": \"#E5ECF6\", \"gridcolor\": \"white\", \"gridwidth\": 2, \"linecolor\": \"white\", \"showbackground\": true, \"ticks\": \"\", \"zerolinecolor\": \"white\"}}, \"shapedefaults\": {\"line\": {\"color\": \"#2a3f5f\"}}, \"ternary\": {\"aaxis\": {\"gridcolor\": \"white\", \"linecolor\": \"white\", \"ticks\": \"\"}, \"baxis\": {\"gridcolor\": \"white\", \"linecolor\": \"white\", \"ticks\": \"\"}, \"bgcolor\": \"#E5ECF6\", \"caxis\": {\"gridcolor\": \"white\", \"linecolor\": \"white\", \"ticks\": \"\"}}, \"title\": {\"x\": 0.05}, \"xaxis\": {\"automargin\": true, \"gridcolor\": \"white\", \"linecolor\": \"white\", \"ticks\": \"\", \"title\": {\"standoff\": 15}, \"zerolinecolor\": \"white\", \"zerolinewidth\": 2}, \"yaxis\": {\"automargin\": true, \"gridcolor\": \"white\", \"linecolor\": \"white\", \"ticks\": \"\", \"title\": {\"standoff\": 15}, \"zerolinecolor\": \"white\", \"zerolinewidth\": 2}}}, \"title\": {\"text\": \"Robot plot in different configurations\"}, \"width\": 1000},\n",
              "                        {\"responsive\": true}\n",
              "                    ).then(function(){\n",
              "                            \n",
              "var gd = document.getElementById('c8f7b4b8-0741-4076-a7a6-31e1856b1dfa');\n",
              "var x = new MutationObserver(function (mutations, observer) {{\n",
              "        var display = window.getComputedStyle(gd).display;\n",
              "        if (!display || display === 'none') {{\n",
              "            console.log([gd, 'removed!']);\n",
              "            Plotly.purge(gd);\n",
              "            observer.disconnect();\n",
              "        }}\n",
              "}});\n",
              "\n",
              "// Listen for the removal of the full notebook cells\n",
              "var notebookContainer = gd.closest('#notebook-container');\n",
              "if (notebookContainer) {{\n",
              "    x.observe(notebookContainer, {childList: true});\n",
              "}}\n",
              "\n",
              "// Listen for the clearing of the current output cell\n",
              "var outputEl = gd.closest('.output');\n",
              "if (outputEl) {{\n",
              "    x.observe(outputEl, {childList: true});\n",
              "}}\n",
              "\n",
              "                        })\n",
              "                };\n",
              "                \n",
              "            </script>\n",
              "        </div>\n",
              "</body>\n",
              "</html>"
            ]
          },
          "metadata": {
            "tags": []
          }
        }
      ]
    },
    {
      "cell_type": "code",
      "metadata": {
        "id": "u9hlpaGrG8e6"
      },
      "source": [
        "# Using Weighted Psuedo Inverse\r\n",
        "def wpi_priority(q0, p_goal, weights=[1,3,1,2,9,4,5], time_step=0.01, max_iteration=3000, accuracy=0.01):\r\n",
        "\r\n",
        "  assert np.linalg.norm(p_goal[:3]) < 0.7*np.sum([a1, a2, a3, a4]), \"Robot Length constraint violated\"\r\n",
        "\r\n",
        "  q_n0 = q0\r\n",
        "  p = FK(q_n0)[:3,-1]\r\n",
        "  t1_dot = p_goal[:3] - p\r\n",
        "  e = np.linalg.norm(t1_dot)\r\n",
        "\r\n",
        "  Tt = np.eye(6)[:3]\r\n",
        "  v1 = np.zeros(3)\r\n",
        "  q_n1 = q_n0\r\n",
        "  q_dot = np.zeros(len(q0))\r\n",
        "  δt = time_step\r\n",
        "  i=0\r\n",
        "\r\n",
        "  start_time = time.time()\r\n",
        "  while True:\r\n",
        "    if (e < accuracy): \r\n",
        "      break\r\n",
        "    \r\n",
        "    fk = FK(q_n0)\r\n",
        "\r\n",
        "    rx, ry, rz = euler_angles(fk[:3,:3])\r\n",
        "\r\n",
        "    p = np.hstack([fk[:3,-1], [rx, ry, rz] ]) # current position and orientation\r\n",
        "\r\n",
        "    t1_dot = p_goal[:3] - p[:3]\r\n",
        "    t2_dot = p_goal[3:5] - p[3:5]\r\n",
        "\r\n",
        "    e = np.linalg.norm(t1_dot)\r\n",
        "\r\n",
        "    J1 = jacobian(q_n0)[:3]\r\n",
        "    J2 = jacobian(q_n0)[3:5]\r\n",
        "\r\n",
        "    w_inv = np.linalg.inv(np.diag(weights)) \r\n",
        "    j1_hash = w_inv @ J1.T @ np.linalg.inv( J1 @ w_inv @ J1.T )\r\n",
        "\r\n",
        "    t2_dot = J2 @ q_dot\r\n",
        "\r\n",
        "    p1 = (np.eye(7) - (j1_hash @ J1))\r\n",
        "\r\n",
        "    j2_res = J2 @ p1\r\n",
        "    j2_hash = w_inv @ j2_res.T @ np.linalg.inv( j2_res @ w_inv @ j2_res.T )\r\n",
        "\r\n",
        "    q_dot = (j1_hash @ t1_dot) + (p1 @ j2_hash) @ (t2_dot - J2 @ j1_hash @ t1_dot) \r\n",
        "\r\n",
        "    q_n1 = q_n0 + (δt * q_dot)  \r\n",
        "\r\n",
        "    q_n0 = q_n1\r\n",
        "\r\n",
        "    i+=1\r\n",
        "    if (i > max_iteration):\r\n",
        "      print(\"No convergence\")\r\n",
        "      break\r\n",
        "    \r\n",
        "  end_time = time.time()\r\n",
        "  print(f\"to {np.round(q_n0,1)} :: {np.round(end_time - start_time, 4)} seconds\\n\")\r\n",
        "\r\n",
        "  return np.mod(q_n1, 2*np.pi)"
      ],
      "execution_count": null,
      "outputs": []
    }
  ]
}